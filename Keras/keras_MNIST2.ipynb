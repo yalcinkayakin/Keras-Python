{
  "nbformat": 4,
  "nbformat_minor": 0,
  "metadata": {
    "colab": {
      "name": "keras-MNIST2.ipynb",
      "version": "0.3.2",
      "views": {},
      "default_view": {},
      "provenance": []
    },
    "kernelspec": {
      "name": "python2",
      "display_name": "Python 2"
    }
  },
  "cells": [
    {
      "metadata": {
        "id": "a2Qlsx4qz2Vr",
        "colab_type": "code",
        "colab": {
          "autoexec": {
            "startup": false,
            "wait_interval": 0
          }
        }
      },
      "cell_type": "code",
      "source": [
        "from __future__ import  print_function\n",
        "import numpy as np\n",
        "from keras.datasets import mnist\n",
        "from keras.models import Sequential\n",
        "from keras.layers.core import Dense,Activation\n",
        "from keras.optimizers import SGD\n",
        "from keras.utils import np_utils\n"
      ],
      "execution_count": 0,
      "outputs": []
    },
    {
      "metadata": {
        "id": "dIjE6Mwc0c2m",
        "colab_type": "code",
        "colab": {
          "autoexec": {
            "startup": false,
            "wait_interval": 0
          }
        }
      },
      "cell_type": "code",
      "source": [
        "np.random.seed(1671)"
      ],
      "execution_count": 0,
      "outputs": []
    },
    {
      "metadata": {
        "id": "MQd0sfNP0hP7",
        "colab_type": "code",
        "colab": {
          "autoexec": {
            "startup": false,
            "wait_interval": 0
          }
        }
      },
      "cell_type": "code",
      "source": [
        "NB_EPOCH=20\n",
        "BATCH_SIZE=128\n",
        "VERBOSE=1\n",
        "NB_CLASSES=10\n",
        "OPTIMIZER=SGD()\n",
        "N_HIDDEN=128\n",
        "VALIDATION_SPLIT=0.2"
      ],
      "execution_count": 0,
      "outputs": []
    },
    {
      "metadata": {
        "id": "dlyZor4005eT",
        "colab_type": "code",
        "colab": {
          "autoexec": {
            "startup": false,
            "wait_interval": 0
          }
        }
      },
      "cell_type": "code",
      "source": [
        "(X_train,y_train),(X_test,y_test)=mnist.load_data()"
      ],
      "execution_count": 0,
      "outputs": []
    },
    {
      "metadata": {
        "id": "alwCMALx1Ed6",
        "colab_type": "code",
        "colab": {
          "autoexec": {
            "startup": false,
            "wait_interval": 0
          }
        }
      },
      "cell_type": "code",
      "source": [
        "RESHAPED=784"
      ],
      "execution_count": 0,
      "outputs": []
    },
    {
      "metadata": {
        "id": "LrYK7cev1ILO",
        "colab_type": "code",
        "colab": {
          "autoexec": {
            "startup": false,
            "wait_interval": 0
          }
        }
      },
      "cell_type": "code",
      "source": [
        "X_train=X_train.reshape(60000,RESHAPED)\n",
        "X_test=X_test.reshape(10000,RESHAPED)\n",
        "\n",
        "X_train=X_train.astype('float32')\n",
        "X_test=X_test.astype('float32')"
      ],
      "execution_count": 0,
      "outputs": []
    },
    {
      "metadata": {
        "id": "7m5bQcjs1wgR",
        "colab_type": "code",
        "colab": {
          "autoexec": {
            "startup": false,
            "wait_interval": 0
          },
          "output_extras": [
            {
              "item_id": 1
            }
          ],
          "base_uri": "https://localhost:8080/",
          "height": 51
        },
        "outputId": "8767c0a8-d223-4670-eaa0-f4a918477f4b",
        "executionInfo": {
          "status": "ok",
          "timestamp": 1519291755577,
          "user_tz": -180,
          "elapsed": 763,
          "user": {
            "displayName": "akın yalçınkaya",
            "photoUrl": "//lh4.googleusercontent.com/-Ee_c7axErkI/AAAAAAAAAAI/AAAAAAAAABQ/JwfGPdH--7M/s50-c-k-no/photo.jpg",
            "userId": "100367937902555164218"
          }
        }
      },
      "cell_type": "code",
      "source": [
        "X_train/=255\n",
        "X_test/=255\n",
        "\n",
        "print(X_train.shape[0],'train samples')\n",
        "print(X_test.shape[0],'train samples')"
      ],
      "execution_count": 10,
      "outputs": [
        {
          "output_type": "stream",
          "text": [
            "60000 train samples\n",
            "10000 train samples\n"
          ],
          "name": "stdout"
        }
      ]
    },
    {
      "metadata": {
        "id": "u5ZEOGZ72HqZ",
        "colab_type": "code",
        "colab": {
          "autoexec": {
            "startup": false,
            "wait_interval": 0
          }
        }
      },
      "cell_type": "code",
      "source": [
        "Y_train=np_utils.to_categorical(y_train,NB_CLASSES)\n",
        "Y_test=np_utils.to_categorical(y_test,NB_CLASSES)\n"
      ],
      "execution_count": 0,
      "outputs": []
    },
    {
      "metadata": {
        "id": "03-ndQtv2X3f",
        "colab_type": "code",
        "colab": {
          "autoexec": {
            "startup": false,
            "wait_interval": 0
          },
          "output_extras": [
            {
              "item_id": 1
            }
          ],
          "base_uri": "https://localhost:8080/",
          "height": 340
        },
        "outputId": "f601f3e3-2a92-4ab4-f41b-f38af86c6553",
        "executionInfo": {
          "status": "ok",
          "timestamp": 1519292004046,
          "user_tz": -180,
          "elapsed": 853,
          "user": {
            "displayName": "akın yalçınkaya",
            "photoUrl": "//lh4.googleusercontent.com/-Ee_c7axErkI/AAAAAAAAAAI/AAAAAAAAABQ/JwfGPdH--7M/s50-c-k-no/photo.jpg",
            "userId": "100367937902555164218"
          }
        }
      },
      "cell_type": "code",
      "source": [
        "model=Sequential()\n",
        "model.add(Dense(N_HIDDEN,input_shape=(RESHAPED,)))\n",
        "model.add(Activation('relu'))\n",
        "model.add(Dense(N_HIDDEN))\n",
        "model.add(Activation('relu'))\n",
        "model.add(Dense(NB_CLASSES))\n",
        "model.add(Activation('softmax'))\n",
        "model.summary()"
      ],
      "execution_count": 14,
      "outputs": [
        {
          "output_type": "stream",
          "text": [
            "_________________________________________________________________\n",
            "Layer (type)                 Output Shape              Param #   \n",
            "=================================================================\n",
            "dense_1 (Dense)              (None, 128)               100480    \n",
            "_________________________________________________________________\n",
            "activation_1 (Activation)    (None, 128)               0         \n",
            "_________________________________________________________________\n",
            "dense_2 (Dense)              (None, 128)               16512     \n",
            "_________________________________________________________________\n",
            "activation_2 (Activation)    (None, 128)               0         \n",
            "_________________________________________________________________\n",
            "dense_3 (Dense)              (None, 10)                1290      \n",
            "_________________________________________________________________\n",
            "activation_3 (Activation)    (None, 10)                0         \n",
            "=================================================================\n",
            "Total params: 118,282\n",
            "Trainable params: 118,282\n",
            "Non-trainable params: 0\n",
            "_________________________________________________________________\n"
          ],
          "name": "stdout"
        }
      ]
    },
    {
      "metadata": {
        "id": "aDOemyJk3Elv",
        "colab_type": "code",
        "colab": {
          "autoexec": {
            "startup": false,
            "wait_interval": 0
          }
        }
      },
      "cell_type": "code",
      "source": [
        "model.compile(loss='categorical_crossentropy',\n",
        "             optimizer=OPTIMIZER,\n",
        "             metrics=['accuracy'])"
      ],
      "execution_count": 0,
      "outputs": []
    },
    {
      "metadata": {
        "id": "AZS1a9Kt3W0n",
        "colab_type": "code",
        "colab": {
          "autoexec": {
            "startup": false,
            "wait_interval": 0
          },
          "output_extras": [
            {
              "item_id": 38
            },
            {
              "item_id": 79
            },
            {
              "item_id": 102
            },
            {
              "item_id": 106
            }
          ],
          "base_uri": "https://localhost:8080/",
          "height": 734
        },
        "outputId": "d0c9d223-2d7f-4cec-8041-86c5e8f749ed",
        "executionInfo": {
          "status": "ok",
          "timestamp": 1519292192823,
          "user_tz": -180,
          "elapsed": 37359,
          "user": {
            "displayName": "akın yalçınkaya",
            "photoUrl": "//lh4.googleusercontent.com/-Ee_c7axErkI/AAAAAAAAAAI/AAAAAAAAABQ/JwfGPdH--7M/s50-c-k-no/photo.jpg",
            "userId": "100367937902555164218"
          }
        }
      },
      "cell_type": "code",
      "source": [
        "history=model.fit(X_train,Y_train,batch_size=BATCH_SIZE,epochs=NB_EPOCH,verbose=VERBOSE,validation_split=VALIDATION_SPLIT)"
      ],
      "execution_count": 16,
      "outputs": [
        {
          "output_type": "stream",
          "text": [
            "Train on 48000 samples, validate on 12000 samples\n",
            "Epoch 1/20\n",
            "48000/48000 [==============================] - 2s 37us/step - loss: 1.4826 - acc: 0.6232 - val_loss: 0.7581 - val_acc: 0.8286\n",
            "Epoch 2/20\n",
            "48000/48000 [==============================] - 2s 38us/step - loss: 0.6048 - acc: 0.8464 - val_loss: 0.4550 - val_acc: 0.8852\n",
            "Epoch 3/20\n",
            "48000/48000 [==============================] - 2s 38us/step - loss: 0.4398 - acc: 0.8802 - val_loss: 0.3709 - val_acc: 0.9019\n",
            "Epoch 4/20\n",
            "48000/48000 [==============================] - 2s 38us/step - loss: 0.3767 - acc: 0.8952 - val_loss: 0.3322 - val_acc: 0.9082\n",
            "Epoch 5/20\n",
            "48000/48000 [==============================] - 2s 38us/step - loss: 0.3415 - acc: 0.9026 - val_loss: 0.3055 - val_acc: 0.9147\n",
            "Epoch 6/20\n",
            "48000/48000 [==============================] - 2s 38us/step - loss: 0.3175 - acc: 0.9086 - val_loss: 0.2880 - val_acc: 0.9184\n",
            "Epoch 7/20\n",
            " 1792/48000 [>.............................] - ETA: 1s - loss: 0.3264 - acc: 0.9057"
          ],
          "name": "stdout"
        },
        {
          "output_type": "stream",
          "text": [
            "48000/48000 [==============================] - 2s 38us/step - loss: 0.2990 - acc: 0.9136 - val_loss: 0.2727 - val_acc: 0.9223\n",
            "Epoch 8/20\n",
            "48000/48000 [==============================] - 2s 38us/step - loss: 0.2839 - acc: 0.9180 - val_loss: 0.2608 - val_acc: 0.9264\n",
            "Epoch 9/20\n",
            "48000/48000 [==============================] - 2s 38us/step - loss: 0.2714 - acc: 0.9217 - val_loss: 0.2505 - val_acc: 0.9297\n",
            "Epoch 10/20\n",
            "48000/48000 [==============================] - 2s 38us/step - loss: 0.2603 - acc: 0.9252 - val_loss: 0.2430 - val_acc: 0.9309\n",
            "Epoch 11/20\n",
            "48000/48000 [==============================] - 2s 38us/step - loss: 0.2502 - acc: 0.9285 - val_loss: 0.2341 - val_acc: 0.9333\n",
            "Epoch 12/20\n",
            "48000/48000 [==============================] - 2s 39us/step - loss: 0.2409 - acc: 0.9301 - val_loss: 0.2271 - val_acc: 0.9353\n",
            "Epoch 13/20\n",
            "21632/48000 [============>.................] - ETA: 0s - loss: 0.2350 - acc: 0.9338"
          ],
          "name": "stdout"
        },
        {
          "output_type": "stream",
          "text": [
            "48000/48000 [==============================] - 2s 38us/step - loss: 0.2326 - acc: 0.9334 - val_loss: 0.2228 - val_acc: 0.9368\n",
            "Epoch 14/20\n",
            "48000/48000 [==============================] - 2s 37us/step - loss: 0.2253 - acc: 0.9354 - val_loss: 0.2148 - val_acc: 0.9395\n",
            "Epoch 15/20\n",
            "48000/48000 [==============================] - 2s 38us/step - loss: 0.2182 - acc: 0.9374 - val_loss: 0.2083 - val_acc: 0.9411\n",
            "Epoch 16/20\n",
            "48000/48000 [==============================] - 2s 37us/step - loss: 0.2117 - acc: 0.9392 - val_loss: 0.2030 - val_acc: 0.9431\n",
            "Epoch 17/20\n",
            "48000/48000 [==============================] - 2s 38us/step - loss: 0.2055 - acc: 0.9413 - val_loss: 0.1981 - val_acc: 0.9444\n",
            "Epoch 18/20\n",
            "48000/48000 [==============================] - 2s 39us/step - loss: 0.1996 - acc: 0.9429 - val_loss: 0.1933 - val_acc: 0.9459\n",
            "Epoch 19/20\n",
            "24320/48000 [==============>...............] - ETA: 0s - loss: 0.1963 - acc: 0.9421"
          ],
          "name": "stdout"
        },
        {
          "output_type": "stream",
          "text": [
            "48000/48000 [==============================] - 2s 38us/step - loss: 0.1942 - acc: 0.9431 - val_loss: 0.1895 - val_acc: 0.9467\n",
            "Epoch 20/20\n",
            "48000/48000 [==============================] - 2s 38us/step - loss: 0.1891 - acc: 0.9455 - val_loss: 0.1850 - val_acc: 0.9497\n"
          ],
          "name": "stdout"
        }
      ]
    },
    {
      "metadata": {
        "id": "7gjblaY73zY5",
        "colab_type": "code",
        "colab": {
          "autoexec": {
            "startup": false,
            "wait_interval": 0
          },
          "output_extras": [
            {
              "item_id": 2
            }
          ],
          "base_uri": "https://localhost:8080/",
          "height": 34
        },
        "outputId": "2eb8c522-e73d-4822-fc08-438aefc8eaf8",
        "executionInfo": {
          "status": "ok",
          "timestamp": 1519292244357,
          "user_tz": -180,
          "elapsed": 1117,
          "user": {
            "displayName": "akın yalçınkaya",
            "photoUrl": "//lh4.googleusercontent.com/-Ee_c7axErkI/AAAAAAAAAAI/AAAAAAAAABQ/JwfGPdH--7M/s50-c-k-no/photo.jpg",
            "userId": "100367937902555164218"
          }
        }
      },
      "cell_type": "code",
      "source": [
        "score=model.evaluate(X_test,Y_test,verbose=VERBOSE)"
      ],
      "execution_count": 18,
      "outputs": [
        {
          "output_type": "stream",
          "text": [
            "10000/10000 [==============================] - 0s 30us/step\n"
          ],
          "name": "stdout"
        }
      ]
    },
    {
      "metadata": {
        "id": "NE2YnscK3-wQ",
        "colab_type": "code",
        "colab": {
          "autoexec": {
            "startup": false,
            "wait_interval": 0
          },
          "output_extras": [
            {
              "item_id": 1
            }
          ],
          "base_uri": "https://localhost:8080/",
          "height": 68
        },
        "outputId": "1702efa4-54a4-41cb-9cd6-97b14dcac90b",
        "executionInfo": {
          "status": "ok",
          "timestamp": 1519292300342,
          "user_tz": -180,
          "elapsed": 707,
          "user": {
            "displayName": "akın yalçınkaya",
            "photoUrl": "//lh4.googleusercontent.com/-Ee_c7axErkI/AAAAAAAAAAI/AAAAAAAAABQ/JwfGPdH--7M/s50-c-k-no/photo.jpg",
            "userId": "100367937902555164218"
          }
        }
      },
      "cell_type": "code",
      "source": [
        "print(\"\\n Test Score:\",score[0])\n",
        "print(\"Test Accuracy:\",score[1])"
      ],
      "execution_count": 19,
      "outputs": [
        {
          "output_type": "stream",
          "text": [
            "\n",
            " Test Score: 0.1860387753561139\n",
            "Test Accuracy: 0.9461\n"
          ],
          "name": "stdout"
        }
      ]
    }
  ]
}