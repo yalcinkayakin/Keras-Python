{
  "nbformat": 4,
  "nbformat_minor": 0,
  "metadata": {
    "colab": {
      "name": "keras-MNIST4.ipynb",
      "version": "0.3.2",
      "views": {},
      "default_view": {},
      "provenance": []
    },
    "kernelspec": {
      "name": "python2",
      "display_name": "Python 2"
    }
  },
  "cells": [
    {
      "metadata": {
        "id": "a2Qlsx4qz2Vr",
        "colab_type": "code",
        "colab": {
          "autoexec": {
            "startup": false,
            "wait_interval": 0
          }
        }
      },
      "cell_type": "code",
      "source": [
        "from __future__ import  print_function\n",
        "import numpy as np\n",
        "from keras.datasets import mnist\n",
        "from keras.models import Sequential\n",
        "from keras.layers.core import Dense,Dropout,Activation\n",
        "from keras.optimizers import SGD\n",
        "from keras.utils import np_utils\n"
      ],
      "execution_count": 0,
      "outputs": []
    },
    {
      "metadata": {
        "id": "dIjE6Mwc0c2m",
        "colab_type": "code",
        "colab": {
          "autoexec": {
            "startup": false,
            "wait_interval": 0
          }
        }
      },
      "cell_type": "code",
      "source": [
        "np.random.seed(1671)"
      ],
      "execution_count": 0,
      "outputs": []
    },
    {
      "metadata": {
        "id": "MQd0sfNP0hP7",
        "colab_type": "code",
        "colab": {
          "autoexec": {
            "startup": false,
            "wait_interval": 0
          }
        }
      },
      "cell_type": "code",
      "source": [
        "NB_EPOCH=20\n",
        "BATCH_SIZE=128\n",
        "VERBOSE=1\n",
        "NB_CLASSES=10\n",
        "OPTIMIZER=SGD()\n",
        "N_HIDDEN=128\n",
        "VALIDATION_SPLIT=0.2\n",
        "DROPOUT=0.3"
      ],
      "execution_count": 0,
      "outputs": []
    },
    {
      "metadata": {
        "id": "dlyZor4005eT",
        "colab_type": "code",
        "colab": {
          "autoexec": {
            "startup": false,
            "wait_interval": 0
          }
        }
      },
      "cell_type": "code",
      "source": [
        "(X_train,y_train),(X_test,y_test)=mnist.load_data()"
      ],
      "execution_count": 0,
      "outputs": []
    },
    {
      "metadata": {
        "id": "alwCMALx1Ed6",
        "colab_type": "code",
        "colab": {
          "autoexec": {
            "startup": false,
            "wait_interval": 0
          }
        }
      },
      "cell_type": "code",
      "source": [
        "RESHAPED=784"
      ],
      "execution_count": 0,
      "outputs": []
    },
    {
      "metadata": {
        "id": "LrYK7cev1ILO",
        "colab_type": "code",
        "colab": {
          "autoexec": {
            "startup": false,
            "wait_interval": 0
          }
        }
      },
      "cell_type": "code",
      "source": [
        "X_train=X_train.reshape(60000,RESHAPED)\n",
        "X_test=X_test.reshape(10000,RESHAPED)\n",
        "\n",
        "X_train=X_train.astype('float32')\n",
        "X_test=X_test.astype('float32')"
      ],
      "execution_count": 0,
      "outputs": []
    },
    {
      "metadata": {
        "id": "7m5bQcjs1wgR",
        "colab_type": "code",
        "colab": {
          "autoexec": {
            "startup": false,
            "wait_interval": 0
          },
          "output_extras": [
            {
              "item_id": 1
            }
          ],
          "base_uri": "https://localhost:8080/",
          "height": 51
        },
        "outputId": "a5b68a81-4e3f-46c1-b3d6-638a55677fe4",
        "executionInfo": {
          "status": "ok",
          "timestamp": 1519293607825,
          "user_tz": -180,
          "elapsed": 661,
          "user": {
            "displayName": "akın yalçınkaya",
            "photoUrl": "//lh4.googleusercontent.com/-Ee_c7axErkI/AAAAAAAAAAI/AAAAAAAAABQ/JwfGPdH--7M/s50-c-k-no/photo.jpg",
            "userId": "100367937902555164218"
          }
        }
      },
      "cell_type": "code",
      "source": [
        "X_train/=255\n",
        "X_test/=255\n",
        "\n",
        "print(X_train.shape[0],'train samples')\n",
        "print(X_test.shape[0],'train samples')"
      ],
      "execution_count": 52,
      "outputs": [
        {
          "output_type": "stream",
          "text": [
            "60000 train samples\n",
            "10000 train samples\n"
          ],
          "name": "stdout"
        }
      ]
    },
    {
      "metadata": {
        "id": "u5ZEOGZ72HqZ",
        "colab_type": "code",
        "colab": {
          "autoexec": {
            "startup": false,
            "wait_interval": 0
          }
        }
      },
      "cell_type": "code",
      "source": [
        "Y_train=np_utils.to_categorical(y_train,NB_CLASSES)\n",
        "Y_test=np_utils.to_categorical(y_test,NB_CLASSES)\n"
      ],
      "execution_count": 0,
      "outputs": []
    },
    {
      "metadata": {
        "id": "03-ndQtv2X3f",
        "colab_type": "code",
        "colab": {
          "autoexec": {
            "startup": false,
            "wait_interval": 0
          },
          "output_extras": [
            {
              "item_id": 1
            }
          ],
          "base_uri": "https://localhost:8080/",
          "height": 408
        },
        "outputId": "c770654f-0318-414c-ab42-75b8adcf6219",
        "executionInfo": {
          "status": "ok",
          "timestamp": 1519293658871,
          "user_tz": -180,
          "elapsed": 672,
          "user": {
            "displayName": "akın yalçınkaya",
            "photoUrl": "//lh4.googleusercontent.com/-Ee_c7axErkI/AAAAAAAAAAI/AAAAAAAAABQ/JwfGPdH--7M/s50-c-k-no/photo.jpg",
            "userId": "100367937902555164218"
          }
        }
      },
      "cell_type": "code",
      "source": [
        "model=Sequential()\n",
        "model.add(Dense(N_HIDDEN,input_shape=(RESHAPED,)))\n",
        "model.add(Activation('relu'))\n",
        "model.add(Dropout(DROPOUT))\n",
        "model.add(Dense(N_HIDDEN))\n",
        "model.add(Activation('relu'))\n",
        "model.add(Dropout(DROPOUT))\n",
        "model.add(Dense(NB_CLASSES))\n",
        "model.add(Activation('softmax'))\n",
        "model.summary()"
      ],
      "execution_count": 54,
      "outputs": [
        {
          "output_type": "stream",
          "text": [
            "_________________________________________________________________\n",
            "Layer (type)                 Output Shape              Param #   \n",
            "=================================================================\n",
            "dense_9 (Dense)              (None, 128)               100480    \n",
            "_________________________________________________________________\n",
            "activation_9 (Activation)    (None, 128)               0         \n",
            "_________________________________________________________________\n",
            "dropout_2 (Dropout)          (None, 128)               0         \n",
            "_________________________________________________________________\n",
            "dense_10 (Dense)             (None, 128)               16512     \n",
            "_________________________________________________________________\n",
            "activation_10 (Activation)   (None, 128)               0         \n",
            "_________________________________________________________________\n",
            "dropout_3 (Dropout)          (None, 128)               0         \n",
            "_________________________________________________________________\n",
            "dense_11 (Dense)             (None, 10)                1290      \n",
            "_________________________________________________________________\n",
            "activation_11 (Activation)   (None, 10)                0         \n",
            "=================================================================\n",
            "Total params: 118,282\n",
            "Trainable params: 118,282\n",
            "Non-trainable params: 0\n",
            "_________________________________________________________________\n"
          ],
          "name": "stdout"
        }
      ]
    },
    {
      "metadata": {
        "id": "aDOemyJk3Elv",
        "colab_type": "code",
        "colab": {
          "autoexec": {
            "startup": false,
            "wait_interval": 0
          }
        }
      },
      "cell_type": "code",
      "source": [
        "model.compile(loss='categorical_crossentropy',\n",
        "             optimizer=OPTIMIZER,\n",
        "             metrics=['accuracy'])"
      ],
      "execution_count": 0,
      "outputs": []
    },
    {
      "metadata": {
        "id": "AZS1a9Kt3W0n",
        "colab_type": "code",
        "colab": {
          "autoexec": {
            "startup": false,
            "wait_interval": 0
          },
          "output_extras": [
            {
              "item_id": 40
            },
            {
              "item_id": 82
            },
            {
              "item_id": 124
            },
            {
              "item_id": 148
            }
          ],
          "base_uri": "https://localhost:8080/",
          "height": 734
        },
        "outputId": "03bacac9-a84f-4d8e-d3ce-cb8e6ed91ec4",
        "executionInfo": {
          "status": "ok",
          "timestamp": 1519293721850,
          "user_tz": -180,
          "elapsed": 43819,
          "user": {
            "displayName": "akın yalçınkaya",
            "photoUrl": "//lh4.googleusercontent.com/-Ee_c7axErkI/AAAAAAAAAAI/AAAAAAAAABQ/JwfGPdH--7M/s50-c-k-no/photo.jpg",
            "userId": "100367937902555164218"
          }
        }
      },
      "cell_type": "code",
      "source": [
        "history=model.fit(X_train,Y_train,batch_size=BATCH_SIZE,epochs=NB_EPOCH,verbose=VERBOSE,validation_split=VALIDATION_SPLIT)"
      ],
      "execution_count": 56,
      "outputs": [
        {
          "output_type": "stream",
          "text": [
            "Train on 48000 samples, validate on 12000 samples\n",
            "Epoch 1/20\n",
            "48000/48000 [==============================] - 2s 40us/step - loss: 1.7399 - acc: 0.4539 - val_loss: 0.9283 - val_acc: 0.8125\n",
            "Epoch 2/20\n",
            "48000/48000 [==============================] - 2s 44us/step - loss: 0.9228 - acc: 0.7230 - val_loss: 0.5396 - val_acc: 0.8653\n",
            "Epoch 3/20\n",
            "48000/48000 [==============================] - 2s 47us/step - loss: 0.6934 - acc: 0.7879 - val_loss: 0.4296 - val_acc: 0.8883\n",
            "Epoch 4/20\n",
            "48000/48000 [==============================] - 2s 45us/step - loss: 0.5947 - acc: 0.8209 - val_loss: 0.3789 - val_acc: 0.8977\n",
            "Epoch 5/20\n",
            "48000/48000 [==============================] - 2s 46us/step - loss: 0.5347 - acc: 0.8392 - val_loss: 0.3455 - val_acc: 0.9040\n",
            "Epoch 6/20\n",
            "25600/48000 [===============>..............] - ETA: 0s - loss: 0.5083 - acc: 0.8495"
          ],
          "name": "stdout"
        },
        {
          "output_type": "stream",
          "text": [
            "48000/48000 [==============================] - 2s 45us/step - loss: 0.4976 - acc: 0.8523 - val_loss: 0.3231 - val_acc: 0.9105\n",
            "Epoch 7/20\n",
            "48000/48000 [==============================] - 2s 46us/step - loss: 0.4617 - acc: 0.8628 - val_loss: 0.3048 - val_acc: 0.9130\n",
            "Epoch 8/20\n",
            "48000/48000 [==============================] - 2s 45us/step - loss: 0.4386 - acc: 0.8687 - val_loss: 0.2895 - val_acc: 0.9174\n",
            "Epoch 9/20\n",
            "48000/48000 [==============================] - 2s 44us/step - loss: 0.4181 - acc: 0.8760 - val_loss: 0.2776 - val_acc: 0.9198\n",
            "Epoch 10/20\n",
            "48000/48000 [==============================] - 2s 45us/step - loss: 0.3991 - acc: 0.8838 - val_loss: 0.2656 - val_acc: 0.9231\n",
            "Epoch 11/20\n",
            "48000/48000 [==============================] - 2s 44us/step - loss: 0.3819 - acc: 0.8878 - val_loss: 0.2551 - val_acc: 0.9257\n",
            "Epoch 12/20\n",
            "  128/48000 [..............................] - ETA: 3s - loss: 0.3947 - acc: 0.8906"
          ],
          "name": "stdout"
        },
        {
          "output_type": "stream",
          "text": [
            "48000/48000 [==============================] - 2s 45us/step - loss: 0.3689 - acc: 0.8921 - val_loss: 0.2466 - val_acc: 0.9285\n",
            "Epoch 13/20\n",
            "48000/48000 [==============================] - 2s 45us/step - loss: 0.3571 - acc: 0.8943 - val_loss: 0.2388 - val_acc: 0.9299\n",
            "Epoch 14/20\n",
            "48000/48000 [==============================] - 2s 44us/step - loss: 0.3466 - acc: 0.8992 - val_loss: 0.2319 - val_acc: 0.9322\n",
            "Epoch 15/20\n",
            "48000/48000 [==============================] - 2s 45us/step - loss: 0.3359 - acc: 0.9016 - val_loss: 0.2261 - val_acc: 0.9338\n",
            "Epoch 16/20\n",
            "48000/48000 [==============================] - 2s 44us/step - loss: 0.3245 - acc: 0.9056 - val_loss: 0.2181 - val_acc: 0.9351\n",
            "Epoch 17/20\n",
            "45056/48000 [===========================>..] - ETA: 0s - loss: 0.3154 - acc: 0.9078"
          ],
          "name": "stdout"
        },
        {
          "output_type": "stream",
          "text": [
            "48000/48000 [==============================] - 2s 46us/step - loss: 0.3143 - acc: 0.9084 - val_loss: 0.2122 - val_acc: 0.9377\n",
            "Epoch 18/20\n",
            "48000/48000 [==============================] - 2s 45us/step - loss: 0.3103 - acc: 0.9093 - val_loss: 0.2076 - val_acc: 0.9392\n",
            "Epoch 19/20\n",
            "48000/48000 [==============================] - 2s 44us/step - loss: 0.3020 - acc: 0.9119 - val_loss: 0.2019 - val_acc: 0.9408\n",
            "Epoch 20/20\n",
            "48000/48000 [==============================] - 2s 45us/step - loss: 0.2932 - acc: 0.9131 - val_loss: 0.1974 - val_acc: 0.9421\n"
          ],
          "name": "stdout"
        }
      ]
    },
    {
      "metadata": {
        "id": "7gjblaY73zY5",
        "colab_type": "code",
        "colab": {
          "autoexec": {
            "startup": false,
            "wait_interval": 0
          },
          "output_extras": [
            {
              "item_id": 2
            }
          ],
          "base_uri": "https://localhost:8080/",
          "height": 34
        },
        "outputId": "2e50780b-30ba-455b-a067-a45f1cde1721",
        "executionInfo": {
          "status": "ok",
          "timestamp": 1519293724456,
          "user_tz": -180,
          "elapsed": 1052,
          "user": {
            "displayName": "akın yalçınkaya",
            "photoUrl": "//lh4.googleusercontent.com/-Ee_c7axErkI/AAAAAAAAAAI/AAAAAAAAABQ/JwfGPdH--7M/s50-c-k-no/photo.jpg",
            "userId": "100367937902555164218"
          }
        }
      },
      "cell_type": "code",
      "source": [
        "score=model.evaluate(X_test,Y_test,verbose=VERBOSE)"
      ],
      "execution_count": 57,
      "outputs": [
        {
          "output_type": "stream",
          "text": [
            "10000/10000 [==============================] - 0s 39us/step\n"
          ],
          "name": "stdout"
        }
      ]
    },
    {
      "metadata": {
        "id": "NE2YnscK3-wQ",
        "colab_type": "code",
        "colab": {
          "autoexec": {
            "startup": false,
            "wait_interval": 0
          },
          "output_extras": [
            {
              "item_id": 1
            }
          ],
          "base_uri": "https://localhost:8080/",
          "height": 68
        },
        "outputId": "039f1c3d-d07e-4825-8d4b-36b5e21b91e5",
        "executionInfo": {
          "status": "ok",
          "timestamp": 1519293728254,
          "user_tz": -180,
          "elapsed": 756,
          "user": {
            "displayName": "akın yalçınkaya",
            "photoUrl": "//lh4.googleusercontent.com/-Ee_c7axErkI/AAAAAAAAAAI/AAAAAAAAABQ/JwfGPdH--7M/s50-c-k-no/photo.jpg",
            "userId": "100367937902555164218"
          }
        }
      },
      "cell_type": "code",
      "source": [
        "print(\"\\n Test Score:\",score[0])\n",
        "print(\"Test Accuracy:\",score[1])"
      ],
      "execution_count": 58,
      "outputs": [
        {
          "output_type": "stream",
          "text": [
            "\n",
            " Test Score: 0.19948769913464784\n",
            "Test Accuracy: 0.9404\n"
          ],
          "name": "stdout"
        }
      ]
    },
    {
      "metadata": {
        "id": "q9ax-N8D8rio",
        "colab_type": "code",
        "colab": {
          "autoexec": {
            "startup": false,
            "wait_interval": 0
          }
        }
      },
      "cell_type": "code",
      "source": [
        "import matplotlib.pyplot as plt"
      ],
      "execution_count": 0,
      "outputs": []
    },
    {
      "metadata": {
        "id": "QF4_evdf5DVe",
        "colab_type": "code",
        "colab": {
          "autoexec": {
            "startup": false,
            "wait_interval": 0
          },
          "output_extras": [
            {
              "item_id": 1
            },
            {
              "item_id": 2
            }
          ],
          "base_uri": "https://localhost:8080/",
          "height": 393
        },
        "outputId": "e80c4313-ff65-441d-8c12-faeb90c5caf1",
        "executionInfo": {
          "status": "ok",
          "timestamp": 1519293736602,
          "user_tz": -180,
          "elapsed": 697,
          "user": {
            "displayName": "akın yalçınkaya",
            "photoUrl": "//lh4.googleusercontent.com/-Ee_c7axErkI/AAAAAAAAAAI/AAAAAAAAABQ/JwfGPdH--7M/s50-c-k-no/photo.jpg",
            "userId": "100367937902555164218"
          }
        }
      },
      "cell_type": "code",
      "source": [
        "#listeliyor bütün verileri \n",
        "print(history.history.keys())\n",
        "\n",
        "#accuracy'ın özet history\n",
        "plt.plot(history.history['acc'])\n",
        "plt.plot(history.history['val_acc'])\n",
        "plt.title('model accuracy')\n",
        "plt.ylabel('accuracy')\n",
        "plt.xlabel('epoch')\n",
        "plt.legend(['train','test'],loc='upper left')\n",
        "plt.show()"
      ],
      "execution_count": 60,
      "outputs": [
        {
          "output_type": "stream",
          "text": [
            "['acc', 'loss', 'val_acc', 'val_loss']\n"
          ],
          "name": "stdout"
        },
        {
          "output_type": "display_data",
          "data": {
            "image/png": "[encoded data removed]",
            "text/plain": [
              "<matplotlib.figure.Figure at 0x7f121dd84d50>"
            ]
          },
          "metadata": {
            "tags": []
          }
        }
      ]
    },
    {
      "metadata": {
        "id": "V7I6y4jj57n1",
        "colab_type": "code",
        "colab": {
          "autoexec": {
            "startup": false,
            "wait_interval": 0
          },
          "output_extras": [
            {
              "item_id": 1
            }
          ],
          "base_uri": "https://localhost:8080/",
          "height": 376
        },
        "outputId": "5cfadc11-cf2e-4fcc-faf3-5a5d0ee4757e",
        "executionInfo": {
          "status": "ok",
          "timestamp": 1519293511715,
          "user_tz": -180,
          "elapsed": 894,
          "user": {
            "displayName": "akın yalçınkaya",
            "photoUrl": "//lh4.googleusercontent.com/-Ee_c7axErkI/AAAAAAAAAAI/AAAAAAAAABQ/JwfGPdH--7M/s50-c-k-no/photo.jpg",
            "userId": "100367937902555164218"
          }
        }
      },
      "cell_type": "code",
      "source": [
        "plt.plot(history.history['loss'])\n",
        "plt.plot(history.history['val_loss'])\n",
        "plt.title('model loss')\n",
        "plt.ylabel('loss')\n",
        "plt.xlabel('epoch')\n",
        "plt.legend(['train','test'],loc='upper left')\n",
        "plt.show()"
      ],
      "execution_count": 45,
      "outputs": [
        {
          "output_type": "display_data",
          "data": {
            "image/png": "[encoded data removed]",
            "text/plain": [
              "<matplotlib.figure.Figure at 0x7f12229df550>"
            ]
          },
          "metadata": {
            "tags": []
          }
        }
      ]
    }
  ]
}