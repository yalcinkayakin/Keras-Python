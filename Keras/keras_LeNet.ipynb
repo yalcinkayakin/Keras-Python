{
  "nbformat": 4,
  "nbformat_minor": 0,
  "metadata": {
    "colab": {
      "name": "keras-LeNet.ipynb",
      "version": "0.3.2",
      "views": {},
      "default_view": {},
      "provenance": []
    },
    "kernelspec": {
      "name": "python2",
      "display_name": "Python 2"
    },
    "accelerator": "GPU"
  },
  "cells": [
    {
      "metadata": {
        "id": "1IJMl77mkPCH",
        "colab_type": "code",
        "colab": {
          "autoexec": {
            "startup": false,
            "wait_interval": 0
          }
        }
      },
      "cell_type": "code",
      "source": [
        "from keras import backend as K\n",
        "from keras.models import Sequential\n",
        "from keras. layers.convolutional import Conv2D,MaxPooling2D\n",
        "from keras.layers.core import Activation,Flatten,Dense\n",
        "from keras.datasets import mnist\n",
        "from keras.utils import np_utils\n",
        "from keras.optimizers import SGD,Adam,RMSprop\n",
        "import numpy as np\n",
        "import matplotlib.pyplot as plt\n",
        "\n",
        "%matplotlib inline\n"
      ],
      "execution_count": 0,
      "outputs": []
    },
    {
      "metadata": {
        "id": "vVnyrmZZqvXB",
        "colab_type": "code",
        "colab": {
          "autoexec": {
            "startup": false,
            "wait_interval": 0
          },
          "output_extras": [
            {
              "item_id": 1
            }
          ],
          "base_uri": "https://localhost:8080/",
          "height": 34
        },
        "outputId": "b4481978-5950-4ce9-8fa5-462802b5000b",
        "executionInfo": {
          "status": "ok",
          "timestamp": 1519372672668,
          "user_tz": -180,
          "elapsed": 8715,
          "user": {
            "displayName": "akın yalçınkaya",
            "photoUrl": "//lh4.googleusercontent.com/-Ee_c7axErkI/AAAAAAAAAAI/AAAAAAAAABQ/JwfGPdH--7M/s50-c-k-no/photo.jpg",
            "userId": "100367937902555164218"
          }
        }
      },
      "cell_type": "code",
      "source": [
        "# https://keras.io/\n",
        "!pip install -q keras\n",
        "import keras"
      ],
      "execution_count": 2,
      "outputs": [
        {
          "output_type": "stream",
          "text": [
            "Using TensorFlow backend.\n"
          ],
          "name": "stderr"
        }
      ]
    },
    {
      "metadata": {
        "id": "yYXpjC9Hlkds",
        "colab_type": "code",
        "colab": {
          "autoexec": {
            "startup": false,
            "wait_interval": 0
          }
        }
      },
      "cell_type": "code",
      "source": [
        "# https://keras.io/\n",
        "!pip install -q keras\n",
        "import keras"
      ],
      "execution_count": 0,
      "outputs": []
    },
    {
      "metadata": {
        "id": "icr6fAkwloaR",
        "colab_type": "code",
        "colab": {
          "autoexec": {
            "startup": false,
            "wait_interval": 0
          }
        }
      },
      "cell_type": "code",
      "source": [
        "np.random.seed(1671)"
      ],
      "execution_count": 0,
      "outputs": []
    },
    {
      "metadata": {
        "id": "9eQotHMqluC7",
        "colab_type": "code",
        "colab": {
          "autoexec": {
            "startup": false,
            "wait_interval": 0
          }
        }
      },
      "cell_type": "code",
      "source": [
        "class LeNet:\n",
        "  @staticmethod\n",
        "  def build(input_shape,classes):\n",
        "    model=Sequential()\n",
        "    \n",
        "    model.add(Conv2D(20,kernel_size=5,padding=\"same\",input_shape=input_shape))\n",
        "    model.add(Activation(\"relu\"))\n",
        "    model.add(MaxPooling2D(pool_size=(2,2),strides=(2,2)))\n",
        "    \n",
        "    model.add(Conv2D(20,kernel_size=5,padding=\"same\",input_shape=input_shape))\n",
        "    model.add(Activation(\"relu\"))\n",
        "    model.add(MaxPooling2D(pool_size=(2,2),strides=(2,2)))\n",
        "    \n",
        "    model.add(Flatten())\n",
        "    model.add(Dense(500))\n",
        "    model.add(Activation(\"relu\"))\n",
        "    \n",
        "    model.add(Dense(classes))\n",
        "    model.add(Activation(\"softmax\"))\n",
        "    \n",
        "    return model\n",
        "  "
      ],
      "execution_count": 0,
      "outputs": []
    },
    {
      "metadata": {
        "id": "lKEbpw16mshA",
        "colab_type": "code",
        "colab": {
          "autoexec": {
            "startup": false,
            "wait_interval": 0
          }
        }
      },
      "cell_type": "code",
      "source": [
        "NB_EPOCH=20\n",
        "BATCH_SIZE=128\n",
        "VERBOSE=1\n",
        "OPTIMIZER=Adam()\n",
        "VALIDATION_SPLIT=0.2\n"
      ],
      "execution_count": 0,
      "outputs": []
    },
    {
      "metadata": {
        "id": "QBR3Y1CCm5DV",
        "colab_type": "code",
        "colab": {
          "autoexec": {
            "startup": false,
            "wait_interval": 0
          }
        }
      },
      "cell_type": "code",
      "source": [
        "IMG_ROWS,IMG_COLS=28,28\n",
        "NB_CLASSES=10\n",
        "INPUT_SHAPE=(1,IMG_ROWS,IMG_COLS)"
      ],
      "execution_count": 0,
      "outputs": []
    },
    {
      "metadata": {
        "id": "_4-P_QUfnUWp",
        "colab_type": "code",
        "colab": {
          "autoexec": {
            "startup": false,
            "wait_interval": 0
          },
          "output_extras": [
            {
              "item_id": 4
            }
          ],
          "base_uri": "https://localhost:8080/",
          "height": 88
        },
        "outputId": "4d08ef55-3e67-47a7-d963-b602edcbafa4",
        "executionInfo": {
          "status": "ok",
          "timestamp": 1519372733371,
          "user_tz": -180,
          "elapsed": 2082,
          "user": {
            "displayName": "akın yalçınkaya",
            "photoUrl": "//lh4.googleusercontent.com/-Ee_c7axErkI/AAAAAAAAAAI/AAAAAAAAABQ/JwfGPdH--7M/s50-c-k-no/photo.jpg",
            "userId": "100367937902555164218"
          }
        }
      },
      "cell_type": "code",
      "source": [
        "(X_train,y_train),(X_test,y_test)=mnist.load_data()\n",
        "K.set_image_dim_ordering('th')"
      ],
      "execution_count": 11,
      "outputs": [
        {
          "output_type": "stream",
          "text": [
            "Downloading data from https://s3.amazonaws.com/img-datasets/mnist.npz\n",
            "11493376/11490434 [==============================] - 1s 0us/step\n",
            "11501568/11490434 [==============================] - 1s 0us/step\n"
          ],
          "name": "stdout"
        }
      ]
    },
    {
      "metadata": {
        "id": "xtLzounSnU2O",
        "colab_type": "code",
        "colab": {
          "autoexec": {
            "startup": false,
            "wait_interval": 0
          }
        }
      },
      "cell_type": "code",
      "source": [
        "X_train=X_train.astype('float32')\n",
        "X_test=X_test.astype('float32')\n",
        "\n",
        "X_train /=255\n",
        "X_test  /=255"
      ],
      "execution_count": 0,
      "outputs": []
    },
    {
      "metadata": {
        "id": "LYDVjgxCnVNn",
        "colab_type": "code",
        "colab": {
          "autoexec": {
            "startup": false,
            "wait_interval": 0
          },
          "output_extras": [
            {
              "item_id": 1
            }
          ],
          "base_uri": "https://localhost:8080/",
          "height": 51
        },
        "outputId": "8d6b3f29-2444-4846-a02a-3ec5dc4da82a",
        "executionInfo": {
          "status": "ok",
          "timestamp": 1519372739949,
          "user_tz": -180,
          "elapsed": 663,
          "user": {
            "displayName": "akın yalçınkaya",
            "photoUrl": "//lh4.googleusercontent.com/-Ee_c7axErkI/AAAAAAAAAAI/AAAAAAAAABQ/JwfGPdH--7M/s50-c-k-no/photo.jpg",
            "userId": "100367937902555164218"
          }
        }
      },
      "cell_type": "code",
      "source": [
        "X_train=X_train[:,np.newaxis,:,:]\n",
        "X_test =X_test[:,np.newaxis,:,:]\n",
        "\n",
        "print(X_train.shape[0], 'train samples')\n",
        "print(X_test.shape[0], 'test samples')"
      ],
      "execution_count": 13,
      "outputs": [
        {
          "output_type": "stream",
          "text": [
            "(60000, 'train samples')\n",
            "(10000, 'test samples')\n"
          ],
          "name": "stdout"
        }
      ]
    },
    {
      "metadata": {
        "id": "z-lDlDnvobCW",
        "colab_type": "code",
        "colab": {
          "autoexec": {
            "startup": false,
            "wait_interval": 0
          }
        }
      },
      "cell_type": "code",
      "source": [
        "y_train=np_utils.to_categorical(y_train,NB_CLASSES)\n",
        "y_test=np_utils.to_categorical(y_test,NB_CLASSES)"
      ],
      "execution_count": 0,
      "outputs": []
    },
    {
      "metadata": {
        "id": "Iq_7KMF4obVC",
        "colab_type": "code",
        "colab": {
          "autoexec": {
            "startup": false,
            "wait_interval": 0
          }
        }
      },
      "cell_type": "code",
      "source": [
        "model=LeNet.build(input_shape=INPUT_SHAPE,classes=NB_CLASSES)"
      ],
      "execution_count": 0,
      "outputs": []
    },
    {
      "metadata": {
        "id": "17vjsFUlobqW",
        "colab_type": "code",
        "colab": {
          "autoexec": {
            "startup": false,
            "wait_interval": 0
          }
        }
      },
      "cell_type": "code",
      "source": [
        "model.compile(loss=\"categorical_crossentropy\",optimizer=OPTIMIZER,metrics=[\"accuracy\"])"
      ],
      "execution_count": 0,
      "outputs": []
    },
    {
      "metadata": {
        "id": "ZBlkUCpanVe3",
        "colab_type": "code",
        "colab": {
          "autoexec": {
            "startup": false,
            "wait_interval": 0
          },
          "output_extras": [
            {
              "item_id": 60
            },
            {
              "item_id": 114
            },
            {
              "item_id": 174
            },
            {
              "item_id": 235
            },
            {
              "item_id": 295
            },
            {
              "item_id": 308
            }
          ],
          "base_uri": "https://localhost:8080/",
          "height": 734
        },
        "outputId": "f6fbe2bc-bf00-4711-cf2a-a0aa85ab09d0",
        "executionInfo": {
          "status": "ok",
          "timestamp": 1519372842624,
          "user_tz": -180,
          "elapsed": 89455,
          "user": {
            "displayName": "akın yalçınkaya",
            "photoUrl": "//lh4.googleusercontent.com/-Ee_c7axErkI/AAAAAAAAAAI/AAAAAAAAABQ/JwfGPdH--7M/s50-c-k-no/photo.jpg",
            "userId": "100367937902555164218"
          }
        }
      },
      "cell_type": "code",
      "source": [
        "history=model.fit(X_train,y_train,\n",
        "                 batch_size=BATCH_SIZE,epochs=NB_EPOCH,\n",
        "                 verbose=VERBOSE,validation_split=VALIDATION_SPLIT)"
      ],
      "execution_count": 17,
      "outputs": [
        {
          "output_type": "stream",
          "text": [
            "Train on 48000 samples, validate on 12000 samples\n",
            "Epoch 1/20\n",
            "48000/48000 [==============================] - 6s 118us/step - loss: 0.2219 - acc: 0.9340 - val_loss: 0.0751 - val_acc: 0.9769\n",
            "Epoch 2/20\n",
            "48000/48000 [==============================] - 4s 92us/step - loss: 0.0604 - acc: 0.9818 - val_loss: 0.0599 - val_acc: 0.9811\n",
            "Epoch 3/20\n",
            "48000/48000 [==============================] - 4s 91us/step - loss: 0.0407 - acc: 0.9875 - val_loss: 0.0475 - val_acc: 0.9860\n",
            "Epoch 4/20\n",
            "38912/48000 [=======================>......] - ETA: 0s - loss: 0.0273 - acc: 0.9911"
          ],
          "name": "stdout"
        },
        {
          "output_type": "stream",
          "text": [
            "48000/48000 [==============================] - 4s 92us/step - loss: 0.0284 - acc: 0.9908 - val_loss: 0.0494 - val_acc: 0.9848\n",
            "Epoch 5/20\n",
            "48000/48000 [==============================] - 4s 92us/step - loss: 0.0228 - acc: 0.9927 - val_loss: 0.0373 - val_acc: 0.9892\n",
            "Epoch 6/20\n",
            "48000/48000 [==============================] - 4s 91us/step - loss: 0.0159 - acc: 0.9948 - val_loss: 0.0394 - val_acc: 0.9891\n",
            "Epoch 7/20\n",
            "48000/48000 [==============================] - 4s 91us/step - loss: 0.0132 - acc: 0.9957 - val_loss: 0.0369 - val_acc: 0.9883\n",
            "Epoch 8/20\n",
            "16000/48000 [=========>....................] - ETA: 2s - loss: 0.0077 - acc: 0.9974"
          ],
          "name": "stdout"
        },
        {
          "output_type": "stream",
          "text": [
            "48000/48000 [==============================] - 4s 92us/step - loss: 0.0114 - acc: 0.9965 - val_loss: 0.0443 - val_acc: 0.9883\n",
            "Epoch 9/20\n",
            "48000/48000 [==============================] - 4s 91us/step - loss: 0.0110 - acc: 0.9966 - val_loss: 0.0369 - val_acc: 0.9902\n",
            "Epoch 10/20\n",
            "48000/48000 [==============================] - 4s 90us/step - loss: 0.0090 - acc: 0.9968 - val_loss: 0.0406 - val_acc: 0.9908\n",
            "Epoch 11/20\n",
            "48000/48000 [==============================] - 4s 91us/step - loss: 0.0076 - acc: 0.9975 - val_loss: 0.0382 - val_acc: 0.9899\n",
            "Epoch 12/20\n",
            "12800/48000 [=======>......................] - ETA: 2s - loss: 0.0058 - acc: 0.9980"
          ],
          "name": "stdout"
        },
        {
          "output_type": "stream",
          "text": [
            "48000/48000 [==============================] - 4s 92us/step - loss: 0.0082 - acc: 0.9972 - val_loss: 0.0637 - val_acc: 0.9841\n",
            "Epoch 13/20\n",
            "48000/48000 [==============================] - 4s 91us/step - loss: 0.0067 - acc: 0.9977 - val_loss: 0.0394 - val_acc: 0.9912\n",
            "Epoch 14/20\n",
            "48000/48000 [==============================] - 4s 91us/step - loss: 0.0049 - acc: 0.9985 - val_loss: 0.0488 - val_acc: 0.9901\n",
            "Epoch 15/20\n",
            "48000/48000 [==============================] - 4s 90us/step - loss: 0.0060 - acc: 0.9980 - val_loss: 0.0399 - val_acc: 0.9907\n",
            "Epoch 16/20\n",
            "12288/48000 [======>.......................] - ETA: 2s - loss: 0.0041 - acc: 0.9985"
          ],
          "name": "stdout"
        },
        {
          "output_type": "stream",
          "text": [
            "48000/48000 [==============================] - 4s 90us/step - loss: 0.0063 - acc: 0.9979 - val_loss: 0.0385 - val_acc: 0.9911\n",
            "Epoch 17/20\n",
            "48000/48000 [==============================] - 4s 91us/step - loss: 0.0052 - acc: 0.9982 - val_loss: 0.0385 - val_acc: 0.9912\n",
            "Epoch 18/20\n",
            "48000/48000 [==============================] - 4s 90us/step - loss: 0.0019 - acc: 0.9995 - val_loss: 0.0464 - val_acc: 0.9900\n",
            "Epoch 19/20\n",
            "48000/48000 [==============================] - 4s 90us/step - loss: 0.0018 - acc: 0.9996 - val_loss: 0.0385 - val_acc: 0.9908\n",
            "Epoch 20/20\n",
            "11648/48000 [======>.......................] - ETA: 3s - loss: 0.0016 - acc: 0.9995"
          ],
          "name": "stdout"
        },
        {
          "output_type": "stream",
          "text": [
            "48000/48000 [==============================] - 4s 92us/step - loss: 0.0049 - acc: 0.9983 - val_loss: 0.0438 - val_acc: 0.9895\n"
          ],
          "name": "stdout"
        }
      ]
    },
    {
      "metadata": {
        "id": "nnfR2QXYp2q_",
        "colab_type": "code",
        "colab": {
          "autoexec": {
            "startup": false,
            "wait_interval": 0
          },
          "output_extras": [
            {
              "item_id": 3
            }
          ],
          "base_uri": "https://localhost:8080/",
          "height": 34
        },
        "outputId": "a7136a36-9774-41ed-c187-985650f420aa",
        "executionInfo": {
          "status": "ok",
          "timestamp": 1519372859174,
          "user_tz": -180,
          "elapsed": 1441,
          "user": {
            "displayName": "akın yalçınkaya",
            "photoUrl": "//lh4.googleusercontent.com/-Ee_c7axErkI/AAAAAAAAAAI/AAAAAAAAABQ/JwfGPdH--7M/s50-c-k-no/photo.jpg",
            "userId": "100367937902555164218"
          }
        }
      },
      "cell_type": "code",
      "source": [
        "score=model.evaluate(X_test,y_test,verbose=VERBOSE)"
      ],
      "execution_count": 18,
      "outputs": [
        {
          "output_type": "stream",
          "text": [
            "10000/10000 [==============================] - 1s 82us/step\n"
          ],
          "name": "stdout"
        }
      ]
    },
    {
      "metadata": {
        "id": "mgKsejMLpbyn",
        "colab_type": "code",
        "colab": {
          "autoexec": {
            "startup": false,
            "wait_interval": 0
          },
          "output_extras": [
            {
              "item_id": 1
            }
          ],
          "base_uri": "https://localhost:8080/",
          "height": 51
        },
        "outputId": "d80b4409-78ba-4789-a921-d34a9eec670d",
        "executionInfo": {
          "status": "ok",
          "timestamp": 1519372862139,
          "user_tz": -180,
          "elapsed": 721,
          "user": {
            "displayName": "akın yalçınkaya",
            "photoUrl": "//lh4.googleusercontent.com/-Ee_c7axErkI/AAAAAAAAAAI/AAAAAAAAABQ/JwfGPdH--7M/s50-c-k-no/photo.jpg",
            "userId": "100367937902555164218"
          }
        }
      },
      "cell_type": "code",
      "source": [
        "print(\"\\n Test Score:\",score[0])\n",
        "print('Test accuracy' ,score[1])"
      ],
      "execution_count": 19,
      "outputs": [
        {
          "output_type": "stream",
          "text": [
            "('\\n Test Score:', 0.047552050150910054)\n",
            "('Test accuracy', 0.9888)\n"
          ],
          "name": "stdout"
        }
      ]
    },
    {
      "metadata": {
        "id": "g_6yalsVp_jC",
        "colab_type": "code",
        "colab": {
          "autoexec": {
            "startup": false,
            "wait_interval": 0
          },
          "output_extras": [
            {
              "item_id": 1
            }
          ],
          "base_uri": "https://localhost:8080/",
          "height": 34
        },
        "outputId": "c8e2ab12-b329-4241-8e38-3c10b69c3e5f",
        "executionInfo": {
          "status": "ok",
          "timestamp": 1519372868849,
          "user_tz": -180,
          "elapsed": 732,
          "user": {
            "displayName": "akın yalçınkaya",
            "photoUrl": "//lh4.googleusercontent.com/-Ee_c7axErkI/AAAAAAAAAAI/AAAAAAAAABQ/JwfGPdH--7M/s50-c-k-no/photo.jpg",
            "userId": "100367937902555164218"
          }
        }
      },
      "cell_type": "code",
      "source": [
        "print(history.history.keys())"
      ],
      "execution_count": 20,
      "outputs": [
        {
          "output_type": "stream",
          "text": [
            "['acc', 'loss', 'val_acc', 'val_loss']\n"
          ],
          "name": "stdout"
        }
      ]
    },
    {
      "metadata": {
        "id": "6KaWcnTsp_0J",
        "colab_type": "code",
        "colab": {
          "autoexec": {
            "startup": false,
            "wait_interval": 0
          },
          "output_extras": [
            {
              "item_id": 1
            }
          ],
          "base_uri": "https://localhost:8080/",
          "height": 294
        },
        "outputId": "34222ddc-bfb6-4103-e929-ed380d1b1297",
        "executionInfo": {
          "status": "ok",
          "timestamp": 1519372874181,
          "user_tz": -180,
          "elapsed": 751,
          "user": {
            "displayName": "akın yalçınkaya",
            "photoUrl": "//lh4.googleusercontent.com/-Ee_c7axErkI/AAAAAAAAAAI/AAAAAAAAABQ/JwfGPdH--7M/s50-c-k-no/photo.jpg",
            "userId": "100367937902555164218"
          }
        }
      },
      "cell_type": "code",
      "source": [
        "plt.plot(history.history['acc'])\n",
        "plt.plot(history.history['val_acc'])\n",
        "plt.title('model accuracy')\n",
        "plt.ylabel('accuracy')\n",
        "plt.xlabel('epoch')\n",
        "plt.legend(['train','test'],loc='upper left')\n",
        "plt.show()"
      ],
      "execution_count": 21,
      "outputs": [
        {
          "output_type": "display_data",
          "data": {
            "image/png": "[encoded data removed]",
            "text/plain": [
              "<matplotlib.figure.Figure at 0x7ff15cf13a10>"
            ]
          },
          "metadata": {
            "tags": []
          }
        }
      ]
    },
    {
      "metadata": {
        "id": "fNEbPmxPqk1p",
        "colab_type": "code",
        "colab": {
          "autoexec": {
            "startup": false,
            "wait_interval": 0
          },
          "output_extras": [
            {
              "item_id": 1
            }
          ],
          "base_uri": "https://localhost:8080/",
          "height": 294
        },
        "outputId": "f07c7499-558d-4b1c-f390-59edcc5bd9be",
        "executionInfo": {
          "status": "ok",
          "timestamp": 1519372921519,
          "user_tz": -180,
          "elapsed": 801,
          "user": {
            "displayName": "akın yalçınkaya",
            "photoUrl": "//lh4.googleusercontent.com/-Ee_c7axErkI/AAAAAAAAAAI/AAAAAAAAABQ/JwfGPdH--7M/s50-c-k-no/photo.jpg",
            "userId": "100367937902555164218"
          }
        }
      },
      "cell_type": "code",
      "source": [
        "plt.plot(history.history['loss'])\n",
        "plt.plot(history.history['val_loss'])\n",
        "plt.title('model loss')\n",
        "plt.ylabel('loss')\n",
        "plt.xlabel('epoch')\n",
        "plt.legend(['train','test'],loc='upper left')\n",
        "plt.show()"
      ],
      "execution_count": 23,
      "outputs": [
        {
          "output_type": "display_data",
          "data": {
            "image/png": "[encoded data removed]",
            "text/plain": [
              "<matplotlib.figure.Figure at 0x7ff19eb64fd0>"
            ]
          },
          "metadata": {
            "tags": []
          }
        }
      ]
    }
  ]
}