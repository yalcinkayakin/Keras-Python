{
  "nbformat": 4,
  "nbformat_minor": 0,
  "metadata": {
    "colab": {
      "name": "CNN-keras.ipynb",
      "version": "0.3.2",
      "views": {},
      "default_view": {},
      "provenance": []
    },
    "kernelspec": {
      "name": "python2",
      "display_name": "Python 2"
    },
    "accelerator": "GPU"
  },
  "cells": [
    {
      "metadata": {
        "id": "31fFQBm20LY0",
        "colab_type": "code",
        "colab": {
          "autoexec": {
            "startup": false,
            "wait_interval": 0
          }
        }
      },
      "cell_type": "code",
      "source": [
        "from keras.datasets import cifar10\n",
        "from keras.utils import np_utils\n",
        "from keras.models import Sequential\n",
        "from keras.layers.core import Dense,Activation,Dropout,Flatten\n",
        "from keras.layers.convolutional import Conv2D,MaxPooling2D\n",
        "from keras.optimizers import SGD,Adam,RMSprop\n",
        "\n",
        "import matplotlib.pyplot as plt\n",
        "\n",
        "%matplotlib inline\n"
      ],
      "execution_count": 0,
      "outputs": []
    },
    {
      "metadata": {
        "id": "qK1Z0nsm72Ut",
        "colab_type": "code",
        "colab": {
          "autoexec": {
            "startup": false,
            "wait_interval": 0
          },
          "output_extras": [
            {
              "item_id": 1
            }
          ],
          "base_uri": "https://localhost:8080/",
          "height": 34
        },
        "outputId": "dd4ad0eb-aa71-462f-ae82-fdda776a6a13",
        "executionInfo": {
          "status": "ok",
          "timestamp": 1519310049083,
          "user_tz": -180,
          "elapsed": 9019,
          "user": {
            "displayName": "akın yalçınkaya",
            "photoUrl": "//lh4.googleusercontent.com/-Ee_c7axErkI/AAAAAAAAAAI/AAAAAAAAABQ/JwfGPdH--7M/s50-c-k-no/photo.jpg",
            "userId": "100367937902555164218"
          }
        }
      },
      "cell_type": "code",
      "source": [
        "# https://keras.io/\n",
        "!pip install -q keras\n",
        "import keras"
      ],
      "execution_count": 4,
      "outputs": [
        {
          "output_type": "stream",
          "text": [
            "Using TensorFlow backend.\n"
          ],
          "name": "stderr"
        }
      ]
    },
    {
      "metadata": {
        "id": "u-u9ZSJv079Q",
        "colab_type": "code",
        "colab": {
          "autoexec": {
            "startup": false,
            "wait_interval": 0
          }
        }
      },
      "cell_type": "code",
      "source": [
        "IMG_CHANNELS=3\n",
        "IMG_ROWS=32\n",
        "IMG_COLS=32\n"
      ],
      "execution_count": 0,
      "outputs": []
    },
    {
      "metadata": {
        "id": "b6p72WbD1Khe",
        "colab_type": "code",
        "colab": {
          "autoexec": {
            "startup": false,
            "wait_interval": 0
          }
        }
      },
      "cell_type": "code",
      "source": [
        "BATCH_SIZE=128\n",
        "NB_EPOCH=20\n",
        "NB_CLASSES=10\n",
        "VERBOSE=1\n",
        "VALIDATION_SPLIT=0.2\n",
        "OPTIM=RMSprop()"
      ],
      "execution_count": 0,
      "outputs": []
    },
    {
      "metadata": {
        "id": "2TGRxAP61ezl",
        "colab_type": "code",
        "colab": {
          "autoexec": {
            "startup": false,
            "wait_interval": 0
          },
          "output_extras": [
            {
              "item_id": 73
            }
          ],
          "base_uri": "https://localhost:8080/",
          "height": 119
        },
        "outputId": "c851ab47-7e97-4e68-f5db-43d1c5863d91",
        "executionInfo": {
          "status": "ok",
          "timestamp": 1519310091693,
          "user_tz": -180,
          "elapsed": 23558,
          "user": {
            "displayName": "akın yalçınkaya",
            "photoUrl": "//lh4.googleusercontent.com/-Ee_c7axErkI/AAAAAAAAAAI/AAAAAAAAABQ/JwfGPdH--7M/s50-c-k-no/photo.jpg",
            "userId": "100367937902555164218"
          }
        }
      },
      "cell_type": "code",
      "source": [
        "(X_train,y_train),(X_test,y_test)=cifar10.load_data()\n",
        "print('X_train shape:',X_train.shape)\n",
        "print(X_train.shape[0],'train samples')\n",
        "print(X_test.shape[0],'test samples')"
      ],
      "execution_count": 8,
      "outputs": [
        {
          "output_type": "stream",
          "text": [
            "Downloading data from https://www.cs.toronto.edu/~kriz/cifar-10-python.tar.gz\n",
            "170500096/170498071 [==============================] - 21s 0us/step\n",
            "170508288/170498071 [==============================] - 21s 0us/step\n",
            "('X_train shape:', (50000, 32, 32, 3))\n",
            "(50000, 'train samples')\n",
            "(10000, 'test samples')\n"
          ],
          "name": "stdout"
        }
      ]
    },
    {
      "metadata": {
        "id": "JFW5u54h1K2z",
        "colab_type": "code",
        "colab": {
          "autoexec": {
            "startup": false,
            "wait_interval": 0
          }
        }
      },
      "cell_type": "code",
      "source": [
        "Y_train=np_utils.to_categorical(y_train,NB_CLASSES)\n",
        "Y_test=np_utils.to_categorical(y_test,NB_CLASSES)"
      ],
      "execution_count": 0,
      "outputs": []
    },
    {
      "metadata": {
        "id": "BpdbL68V1LJx",
        "colab_type": "code",
        "colab": {
          "autoexec": {
            "startup": false,
            "wait_interval": 0
          }
        }
      },
      "cell_type": "code",
      "source": [
        "X_train=X_train.astype('float32')\n",
        "X_test=X_test.astype('float32')\n",
        "\n",
        "X_train /=255\n",
        "X_test  /=255"
      ],
      "execution_count": 0,
      "outputs": []
    },
    {
      "metadata": {
        "id": "ku-NshXs2to_",
        "colab_type": "code",
        "colab": {
          "autoexec": {
            "startup": false,
            "wait_interval": 0
          },
          "output_extras": [
            {
              "item_id": 1
            }
          ],
          "base_uri": "https://localhost:8080/",
          "height": 476
        },
        "outputId": "8816d054-1af2-4813-8233-5cba5abd97fe",
        "executionInfo": {
          "status": "ok",
          "timestamp": 1519310103487,
          "user_tz": -180,
          "elapsed": 641,
          "user": {
            "displayName": "akın yalçınkaya",
            "photoUrl": "//lh4.googleusercontent.com/-Ee_c7axErkI/AAAAAAAAAAI/AAAAAAAAABQ/JwfGPdH--7M/s50-c-k-no/photo.jpg",
            "userId": "100367937902555164218"
          }
        }
      },
      "cell_type": "code",
      "source": [
        "model=Sequential()\n",
        "model.add(Conv2D(32,(3,3),padding='same',input_shape=(IMG_ROWS,IMG_COLS,IMG_CHANNELS)))\n",
        "model.add(Activation('relu'))\n",
        "model.add(MaxPooling2D(pool_size=(2,2)))\n",
        "model.add(Dropout(0.25))\n",
        "\n",
        "model.add(Flatten())\n",
        "model.add(Dense(512))\n",
        "model.add(Activation('relu'))\n",
        "model.add(Dropout(0.5))\n",
        "model.add(Dense(NB_CLASSES))\n",
        "model.add(Activation('softmax'))\n",
        "\n",
        "model.summary()"
      ],
      "execution_count": 11,
      "outputs": [
        {
          "output_type": "stream",
          "text": [
            "_________________________________________________________________\n",
            "Layer (type)                 Output Shape              Param #   \n",
            "=================================================================\n",
            "conv2d_1 (Conv2D)            (None, 32, 32, 32)        896       \n",
            "_________________________________________________________________\n",
            "activation_1 (Activation)    (None, 32, 32, 32)        0         \n",
            "_________________________________________________________________\n",
            "max_pooling2d_1 (MaxPooling2 (None, 16, 16, 32)        0         \n",
            "_________________________________________________________________\n",
            "dropout_1 (Dropout)          (None, 16, 16, 32)        0         \n",
            "_________________________________________________________________\n",
            "flatten_1 (Flatten)          (None, 8192)              0         \n",
            "_________________________________________________________________\n",
            "dense_1 (Dense)              (None, 512)               4194816   \n",
            "_________________________________________________________________\n",
            "activation_2 (Activation)    (None, 512)               0         \n",
            "_________________________________________________________________\n",
            "dropout_2 (Dropout)          (None, 512)               0         \n",
            "_________________________________________________________________\n",
            "dense_2 (Dense)              (None, 10)                5130      \n",
            "_________________________________________________________________\n",
            "activation_3 (Activation)    (None, 10)                0         \n",
            "=================================================================\n",
            "Total params: 4,200,842\n",
            "Trainable params: 4,200,842\n",
            "Non-trainable params: 0\n",
            "_________________________________________________________________\n"
          ],
          "name": "stdout"
        }
      ]
    },
    {
      "metadata": {
        "id": "9ClMdRGH2uGW",
        "colab_type": "code",
        "colab": {
          "autoexec": {
            "startup": false,
            "wait_interval": 0
          }
        }
      },
      "cell_type": "code",
      "source": [
        "model.compile(loss='categorical_crossentropy',optimizer=OPTIM,metrics=['accuracy'])"
      ],
      "execution_count": 0,
      "outputs": []
    },
    {
      "metadata": {
        "id": "C8clQ2X91LjJ",
        "colab_type": "code",
        "colab": {
          "autoexec": {
            "startup": false,
            "wait_interval": 0
          },
          "output_extras": [
            {
              "item_id": 67
            },
            {
              "item_id": 139
            },
            {
              "item_id": 196
            },
            {
              "item_id": 245
            },
            {
              "item_id": 264
            },
            {
              "item_id": 312
            },
            {
              "item_id": 341
            }
          ],
          "base_uri": "https://localhost:8080/",
          "height": 734
        },
        "outputId": "944f2b80-7a39-418e-ca3c-1e5c1295936e",
        "executionInfo": {
          "status": "ok",
          "timestamp": 1519310233590,
          "user_tz": -180,
          "elapsed": 120492,
          "user": {
            "displayName": "akın yalçınkaya",
            "photoUrl": "//lh4.googleusercontent.com/-Ee_c7axErkI/AAAAAAAAAAI/AAAAAAAAABQ/JwfGPdH--7M/s50-c-k-no/photo.jpg",
            "userId": "100367937902555164218"
          }
        }
      },
      "cell_type": "code",
      "source": [
        "history=model.fit(X_train,Y_train,batch_size=BATCH_SIZE,epochs=NB_EPOCH,validation_split=VALIDATION_SPLIT,verbose=VERBOSE)"
      ],
      "execution_count": 13,
      "outputs": [
        {
          "output_type": "stream",
          "text": [
            "Train on 40000 samples, validate on 10000 samples\n",
            "Epoch 1/20\n",
            "40000/40000 [==============================] - 8s 192us/step - loss: 1.7716 - acc: 0.3785 - val_loss: 1.5739 - val_acc: 0.4373\n",
            "Epoch 2/20\n",
            "40000/40000 [==============================] - 6s 146us/step - loss: 1.3875 - acc: 0.5090 - val_loss: 1.2624 - val_acc: 0.5588\n",
            "Epoch 3/20\n",
            "40000/40000 [==============================] - 6s 149us/step - loss: 1.2496 - acc: 0.5592 - val_loss: 1.1417 - val_acc: 0.6114\n",
            "Epoch 4/20\n",
            " 8192/40000 [=====>........................] - ETA: 4s - loss: 1.1741 - acc: 0.5964"
          ],
          "name": "stdout"
        },
        {
          "output_type": "stream",
          "text": [
            "40000/40000 [==============================] - 6s 149us/step - loss: 1.1540 - acc: 0.5999 - val_loss: 1.1249 - val_acc: 0.6097\n",
            "Epoch 5/20\n",
            "40000/40000 [==============================] - 6s 148us/step - loss: 1.0809 - acc: 0.6220 - val_loss: 1.1519 - val_acc: 0.6037\n",
            "Epoch 6/20\n",
            "40000/40000 [==============================] - 6s 150us/step - loss: 1.0213 - acc: 0.6421 - val_loss: 1.1020 - val_acc: 0.6163\n",
            "Epoch 7/20\n",
            "24576/40000 [=================>............] - ETA: 2s - loss: 0.9646 - acc: 0.6641"
          ],
          "name": "stdout"
        },
        {
          "output_type": "stream",
          "text": [
            "40000/40000 [==============================] - 6s 148us/step - loss: 0.9657 - acc: 0.6631 - val_loss: 1.0420 - val_acc: 0.6397\n",
            "Epoch 8/20\n",
            "40000/40000 [==============================] - 6s 146us/step - loss: 0.9294 - acc: 0.6775 - val_loss: 1.0711 - val_acc: 0.6401\n",
            "Epoch 9/20\n",
            "40000/40000 [==============================] - 6s 147us/step - loss: 0.8857 - acc: 0.6921 - val_loss: 1.1776 - val_acc: 0.6209\n",
            "Epoch 10/20\n",
            "27648/40000 [===================>..........] - ETA: 1s - loss: 0.8510 - acc: 0.7046"
          ],
          "name": "stdout"
        },
        {
          "output_type": "stream",
          "text": [
            "40000/40000 [==============================] - 6s 147us/step - loss: 0.8504 - acc: 0.7040 - val_loss: 0.9855 - val_acc: 0.6698\n",
            "Epoch 11/20\n",
            "40000/40000 [==============================] - 6s 146us/step - loss: 0.8162 - acc: 0.7169 - val_loss: 1.0604 - val_acc: 0.6476\n",
            "Epoch 12/20\n",
            "40000/40000 [==============================] - 6s 147us/step - loss: 0.7841 - acc: 0.7275 - val_loss: 0.9676 - val_acc: 0.6773\n",
            "Epoch 13/20\n",
            "27904/40000 [===================>..........] - ETA: 1s - loss: 0.7504 - acc: 0.7375"
          ],
          "name": "stdout"
        },
        {
          "output_type": "stream",
          "text": [
            "40000/40000 [==============================] - 6s 146us/step - loss: 0.7554 - acc: 0.7360 - val_loss: 1.0150 - val_acc: 0.6659\n",
            "Epoch 14/20\n",
            "40000/40000 [==============================] - 6s 148us/step - loss: 0.7292 - acc: 0.7509 - val_loss: 1.0446 - val_acc: 0.6515\n",
            "Epoch 15/20\n",
            "40000/40000 [==============================] - 6s 147us/step - loss: 0.7086 - acc: 0.7532 - val_loss: 1.0134 - val_acc: 0.6702\n",
            "Epoch 16/20\n",
            "27520/40000 [===================>..........] - ETA: 1s - loss: 0.6797 - acc: 0.7672"
          ],
          "name": "stdout"
        },
        {
          "output_type": "stream",
          "text": [
            "40000/40000 [==============================] - 6s 148us/step - loss: 0.6847 - acc: 0.7650 - val_loss: 0.9838 - val_acc: 0.6795\n",
            "Epoch 17/20\n",
            "40000/40000 [==============================] - 6s 145us/step - loss: 0.6575 - acc: 0.7727 - val_loss: 1.1722 - val_acc: 0.6486\n",
            "Epoch 18/20\n",
            "40000/40000 [==============================] - 6s 147us/step - loss: 0.6418 - acc: 0.7797 - val_loss: 0.9870 - val_acc: 0.6783\n",
            "Epoch 19/20\n",
            "27904/40000 [===================>..........] - ETA: 1s - loss: 0.6210 - acc: 0.7868"
          ],
          "name": "stdout"
        },
        {
          "output_type": "stream",
          "text": [
            "40000/40000 [==============================] - 6s 148us/step - loss: 0.6222 - acc: 0.7852 - val_loss: 1.1353 - val_acc: 0.6460\n",
            "Epoch 20/20\n",
            "40000/40000 [==============================] - 6s 148us/step - loss: 0.5957 - acc: 0.7952 - val_loss: 0.9997 - val_acc: 0.6892\n"
          ],
          "name": "stdout"
        }
      ]
    },
    {
      "metadata": {
        "id": "qA7F-Rew4qPj",
        "colab_type": "code",
        "colab": {
          "autoexec": {
            "startup": false,
            "wait_interval": 0
          },
          "output_extras": [
            {
              "item_id": 3
            }
          ],
          "base_uri": "https://localhost:8080/",
          "height": 85
        },
        "outputId": "8242c882-5bf6-4e00-a6a2-3639769bdf90",
        "executionInfo": {
          "status": "ok",
          "timestamp": 1519310243016,
          "user_tz": -180,
          "elapsed": 1470,
          "user": {
            "displayName": "akın yalçınkaya",
            "photoUrl": "//lh4.googleusercontent.com/-Ee_c7axErkI/AAAAAAAAAAI/AAAAAAAAABQ/JwfGPdH--7M/s50-c-k-no/photo.jpg",
            "userId": "100367937902555164218"
          }
        }
      },
      "cell_type": "code",
      "source": [
        "print('Testing....')\n",
        "score=model.evaluate(X_test,Y_test,batch_size=BATCH_SIZE,verbose=VERBOSE)\n",
        "print(\"\\n Test Score:\",score[0])\n",
        "print(\"\\n Test Score:\",score[1])\n",
        "\n"
      ],
      "execution_count": 14,
      "outputs": [
        {
          "output_type": "stream",
          "text": [
            "Testing....\n",
            "10000/10000 [==============================] - 1s 58us/step\n",
            "('\\n Test Score:', 1.0122417866706848)\n",
            "('\\n Test Score:', 0.6756)\n"
          ],
          "name": "stdout"
        }
      ]
    },
    {
      "metadata": {
        "id": "JHziwweI4q7y",
        "colab_type": "code",
        "colab": {
          "autoexec": {
            "startup": false,
            "wait_interval": 0
          }
        }
      },
      "cell_type": "code",
      "source": [
        "model_json=model.to_json()\n",
        "open('cifar10_architecture.json','w').write(model_json)\n",
        "model.save_weights('cifar10_weights.h5',overwrite=True)"
      ],
      "execution_count": 0,
      "outputs": []
    },
    {
      "metadata": {
        "id": "YkYbNINq5o7o",
        "colab_type": "code",
        "colab": {
          "autoexec": {
            "startup": false,
            "wait_interval": 0
          },
          "output_extras": [
            {
              "item_id": 1
            },
            {
              "item_id": 2
            }
          ],
          "base_uri": "https://localhost:8080/",
          "height": 297
        },
        "outputId": "9432cde0-e646-415c-8247-8609a81bf04b",
        "executionInfo": {
          "status": "ok",
          "timestamp": 1519310253052,
          "user_tz": -180,
          "elapsed": 703,
          "user": {
            "displayName": "akın yalçınkaya",
            "photoUrl": "//lh4.googleusercontent.com/-Ee_c7axErkI/AAAAAAAAAAI/AAAAAAAAABQ/JwfGPdH--7M/s50-c-k-no/photo.jpg",
            "userId": "100367937902555164218"
          }
        }
      },
      "cell_type": "code",
      "source": [
        "print(history.history.keys())\n",
        "\n",
        "plt.plot(history.history['val_acc'])\n",
        "plt.title('model accuracy')\n",
        "plt.ylabel=('accuracy')\n",
        "plt.xlabel=('epoch')\n",
        "plt.legend(['train','test'],loc='upper left')\n",
        "plt.show()"
      ],
      "execution_count": 16,
      "outputs": [
        {
          "output_type": "stream",
          "text": [
            "['acc', 'loss', 'val_acc', 'val_loss']\n"
          ],
          "name": "stdout"
        },
        {
          "output_type": "display_data",
          "data": {
            "image/png": "[encoded data removed]",
            "text/plain": [
              "<matplotlib.figure.Figure at 0x7f2d8605a250>"
            ]
          },
          "metadata": {
            "tags": []
          }
        }
      ]
    },
    {
      "metadata": {
        "id": "mY6aCJuJ6QxF",
        "colab_type": "code",
        "colab": {
          "autoexec": {
            "startup": false,
            "wait_interval": 0
          },
          "output_extras": [
            {
              "item_id": 1
            }
          ],
          "base_uri": "https://localhost:8080/",
          "height": 280
        },
        "outputId": "62c1b983-666e-4cc3-8a62-fb946377f6de",
        "executionInfo": {
          "status": "ok",
          "timestamp": 1519310258267,
          "user_tz": -180,
          "elapsed": 721,
          "user": {
            "displayName": "akın yalçınkaya",
            "photoUrl": "//lh4.googleusercontent.com/-Ee_c7axErkI/AAAAAAAAAAI/AAAAAAAAABQ/JwfGPdH--7M/s50-c-k-no/photo.jpg",
            "userId": "100367937902555164218"
          }
        }
      },
      "cell_type": "code",
      "source": [
        "\n",
        "plt.plot(history.history['loss'])\n",
        "plt.title('model loss')\n",
        "plt.ylabel=('loss')\n",
        "plt.xlabel=('epoch')\n",
        "plt.legend(['train','test'],loc='upper left')\n",
        "plt.show()"
      ],
      "execution_count": 17,
      "outputs": [
        {
          "output_type": "display_data",
          "data": {
            "image/png": "[encoded data removed]",
            "text/plain": [
              "<matplotlib.figure.Figure at 0x7f2d85fa6450>"
            ]
          },
          "metadata": {
            "tags": []
          }
        }
      ]
    }
  ]
}