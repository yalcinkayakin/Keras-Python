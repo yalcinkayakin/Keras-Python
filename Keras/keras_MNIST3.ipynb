{
  "nbformat": 4,
  "nbformat_minor": 0,
  "metadata": {
    "colab": {
      "name": "keras-MNIST3.ipynb",
      "version": "0.3.2",
      "views": {},
      "default_view": {},
      "provenance": []
    },
    "kernelspec": {
      "name": "python2",
      "display_name": "Python 2"
    }
  },
  "cells": [
    {
      "metadata": {
        "id": "a2Qlsx4qz2Vr",
        "colab_type": "code",
        "colab": {
          "autoexec": {
            "startup": false,
            "wait_interval": 0
          }
        }
      },
      "cell_type": "code",
      "source": [
        "from __future__ import  print_function\n",
        "import numpy as np\n",
        "from keras.datasets import mnist\n",
        "from keras.models import Sequential\n",
        "from keras.layers.core import Dense,Dropout,Activation\n",
        "from keras.optimizers import SGD\n",
        "from keras.utils import np_utils\n"
      ],
      "execution_count": 0,
      "outputs": []
    },
    {
      "metadata": {
        "id": "dIjE6Mwc0c2m",
        "colab_type": "code",
        "colab": {
          "autoexec": {
            "startup": false,
            "wait_interval": 0
          }
        }
      },
      "cell_type": "code",
      "source": [
        "np.random.seed(1671)"
      ],
      "execution_count": 0,
      "outputs": []
    },
    {
      "metadata": {
        "id": "MQd0sfNP0hP7",
        "colab_type": "code",
        "colab": {
          "autoexec": {
            "startup": false,
            "wait_interval": 0
          }
        }
      },
      "cell_type": "code",
      "source": [
        "NB_EPOCH=250\n",
        "BATCH_SIZE=128\n",
        "VERBOSE=1\n",
        "NB_CLASSES=10\n",
        "OPTIMIZER=SGD()\n",
        "N_HIDDEN=128\n",
        "VALIDATION_SPLIT=0.2\n",
        "DROPOUT=0.3"
      ],
      "execution_count": 0,
      "outputs": []
    },
    {
      "metadata": {
        "id": "dlyZor4005eT",
        "colab_type": "code",
        "colab": {
          "autoexec": {
            "startup": false,
            "wait_interval": 0
          }
        }
      },
      "cell_type": "code",
      "source": [
        "(X_train,y_train),(X_test,y_test)=mnist.load_data()"
      ],
      "execution_count": 0,
      "outputs": []
    },
    {
      "metadata": {
        "id": "alwCMALx1Ed6",
        "colab_type": "code",
        "colab": {
          "autoexec": {
            "startup": false,
            "wait_interval": 0
          }
        }
      },
      "cell_type": "code",
      "source": [
        "RESHAPED=784"
      ],
      "execution_count": 0,
      "outputs": []
    },
    {
      "metadata": {
        "id": "LrYK7cev1ILO",
        "colab_type": "code",
        "colab": {
          "autoexec": {
            "startup": false,
            "wait_interval": 0
          }
        }
      },
      "cell_type": "code",
      "source": [
        "X_train=X_train.reshape(60000,RESHAPED)\n",
        "X_test=X_test.reshape(10000,RESHAPED)\n",
        "\n",
        "X_train=X_train.astype('float32')\n",
        "X_test=X_test.astype('float32')"
      ],
      "execution_count": 0,
      "outputs": []
    },
    {
      "metadata": {
        "id": "7m5bQcjs1wgR",
        "colab_type": "code",
        "colab": {
          "autoexec": {
            "startup": false,
            "wait_interval": 0
          },
          "output_extras": [
            {
              "item_id": 1
            }
          ],
          "base_uri": "https://localhost:8080/",
          "height": 51
        },
        "outputId": "400ee784-1c6f-4660-a43c-d7109b2b4c88",
        "executionInfo": {
          "status": "ok",
          "timestamp": 1519292868720,
          "user_tz": -180,
          "elapsed": 717,
          "user": {
            "displayName": "akın yalçınkaya",
            "photoUrl": "//lh4.googleusercontent.com/-Ee_c7axErkI/AAAAAAAAAAI/AAAAAAAAABQ/JwfGPdH--7M/s50-c-k-no/photo.jpg",
            "userId": "100367937902555164218"
          }
        }
      },
      "cell_type": "code",
      "source": [
        "X_train/=255\n",
        "X_test/=255\n",
        "\n",
        "print(X_train.shape[0],'train samples')\n",
        "print(X_test.shape[0],'train samples')"
      ],
      "execution_count": 35,
      "outputs": [
        {
          "output_type": "stream",
          "text": [
            "60000 train samples\n",
            "10000 train samples\n"
          ],
          "name": "stdout"
        }
      ]
    },
    {
      "metadata": {
        "id": "u5ZEOGZ72HqZ",
        "colab_type": "code",
        "colab": {
          "autoexec": {
            "startup": false,
            "wait_interval": 0
          }
        }
      },
      "cell_type": "code",
      "source": [
        "Y_train=np_utils.to_categorical(y_train,NB_CLASSES)\n",
        "Y_test=np_utils.to_categorical(y_test,NB_CLASSES)\n"
      ],
      "execution_count": 0,
      "outputs": []
    },
    {
      "metadata": {
        "id": "03-ndQtv2X3f",
        "colab_type": "code",
        "colab": {
          "autoexec": {
            "startup": false,
            "wait_interval": 0
          },
          "output_extras": [
            {
              "item_id": 1
            }
          ],
          "base_uri": "https://localhost:8080/",
          "height": 374
        },
        "outputId": "c0f40643-f697-4624-ba17-483f9df1b523",
        "executionInfo": {
          "status": "ok",
          "timestamp": 1519292876600,
          "user_tz": -180,
          "elapsed": 665,
          "user": {
            "displayName": "akın yalçınkaya",
            "photoUrl": "//lh4.googleusercontent.com/-Ee_c7axErkI/AAAAAAAAAAI/AAAAAAAAABQ/JwfGPdH--7M/s50-c-k-no/photo.jpg",
            "userId": "100367937902555164218"
          }
        }
      },
      "cell_type": "code",
      "source": [
        "model=Sequential()\n",
        "model.add(Dense(N_HIDDEN,input_shape=(RESHAPED,)))\n",
        "model.add(Activation('relu'))\n",
        "model.add(Dense(N_HIDDEN))\n",
        "model.add(Activation('relu'))\n",
        "model.add(Dropout(DROPOUT))\n",
        "model.add(Dense(NB_CLASSES))\n",
        "model.add(Activation('softmax'))\n",
        "model.summary()"
      ],
      "execution_count": 37,
      "outputs": [
        {
          "output_type": "stream",
          "text": [
            "_________________________________________________________________\n",
            "Layer (type)                 Output Shape              Param #   \n",
            "=================================================================\n",
            "dense_6 (Dense)              (None, 128)               100480    \n",
            "_________________________________________________________________\n",
            "activation_6 (Activation)    (None, 128)               0         \n",
            "_________________________________________________________________\n",
            "dense_7 (Dense)              (None, 128)               16512     \n",
            "_________________________________________________________________\n",
            "activation_7 (Activation)    (None, 128)               0         \n",
            "_________________________________________________________________\n",
            "dropout_1 (Dropout)          (None, 128)               0         \n",
            "_________________________________________________________________\n",
            "dense_8 (Dense)              (None, 10)                1290      \n",
            "_________________________________________________________________\n",
            "activation_8 (Activation)    (None, 10)                0         \n",
            "=================================================================\n",
            "Total params: 118,282\n",
            "Trainable params: 118,282\n",
            "Non-trainable params: 0\n",
            "_________________________________________________________________\n"
          ],
          "name": "stdout"
        }
      ]
    },
    {
      "metadata": {
        "id": "aDOemyJk3Elv",
        "colab_type": "code",
        "colab": {
          "autoexec": {
            "startup": false,
            "wait_interval": 0
          }
        }
      },
      "cell_type": "code",
      "source": [
        "model.compile(loss='categorical_crossentropy',\n",
        "             optimizer=OPTIMIZER,\n",
        "             metrics=['accuracy'])"
      ],
      "execution_count": 0,
      "outputs": []
    },
    {
      "metadata": {
        "id": "AZS1a9Kt3W0n",
        "colab_type": "code",
        "colab": {
          "autoexec": {
            "startup": false,
            "wait_interval": 0
          },
          "output_extras": [
            {
              "item_id": 39
            },
            {
              "item_id": 61
            },
            {
              "item_id": 75
            },
            {
              "item_id": 115
            },
            {
              "item_id": 156
            },
            {
              "item_id": 198
            },
            {
              "item_id": 241
            },
            {
              "item_id": 282
            },
            {
              "item_id": 324
            },
            {
              "item_id": 366
            },
            {
              "item_id": 408
            },
            {
              "item_id": 450
            },
            {
              "item_id": 491
            },
            {
              "item_id": 534
            },
            {
              "item_id": 576
            },
            {
              "item_id": 619
            },
            {
              "item_id": 659
            },
            {
              "item_id": 700
            },
            {
              "item_id": 742
            },
            {
              "item_id": 784
            },
            {
              "item_id": 826
            },
            {
              "item_id": 869
            },
            {
              "item_id": 912
            },
            {
              "item_id": 955
            },
            {
              "item_id": 998
            },
            {
              "item_id": 1036
            },
            {
              "item_id": 1049
            },
            {
              "item_id": 1062
            },
            {
              "item_id": 1074
            },
            {
              "item_id": 1087
            },
            {
              "item_id": 1100
            },
            {
              "item_id": 1137
            },
            {
              "item_id": 1179
            },
            {
              "item_id": 1222
            },
            {
              "item_id": 1264
            },
            {
              "item_id": 1306
            },
            {
              "item_id": 1346
            },
            {
              "item_id": 1388
            },
            {
              "item_id": 1405
            },
            {
              "item_id": 1418
            },
            {
              "item_id": 1439
            },
            {
              "item_id": 1472
            }
          ],
          "base_uri": "https://localhost:8080/",
          "height": 8554
        },
        "outputId": "f1a4e2b5-1e1e-4e5e-ae22-adaea5d18e6f",
        "executionInfo": {
          "status": "ok",
          "timestamp": 1519293378880,
          "user_tz": -180,
          "elapsed": 492441,
          "user": {
            "displayName": "akın yalçınkaya",
            "photoUrl": "//lh4.googleusercontent.com/-Ee_c7axErkI/AAAAAAAAAAI/AAAAAAAAABQ/JwfGPdH--7M/s50-c-k-no/photo.jpg",
            "userId": "100367937902555164218"
          }
        }
      },
      "cell_type": "code",
      "source": [
        "history=model.fit(X_train,Y_train,batch_size=BATCH_SIZE,epochs=NB_EPOCH,verbose=VERBOSE,validation_split=VALIDATION_SPLIT)"
      ],
      "execution_count": 39,
      "outputs": [
        {
          "output_type": "stream",
          "text": [
            "Train on 48000 samples, validate on 12000 samples\n",
            "Epoch 1/250\n",
            "48000/48000 [==============================] - 2s 39us/step - loss: 1.5306 - acc: 0.5525 - val_loss: 0.7841 - val_acc: 0.8380\n",
            "Epoch 2/250\n",
            "48000/48000 [==============================] - 2s 42us/step - loss: 0.7222 - acc: 0.7935 - val_loss: 0.4803 - val_acc: 0.8779\n",
            "Epoch 3/250\n",
            "48000/48000 [==============================] - 2s 41us/step - loss: 0.5414 - acc: 0.8433 - val_loss: 0.3939 - val_acc: 0.8934\n",
            "Epoch 4/250\n",
            "48000/48000 [==============================] - 2s 41us/step - loss: 0.4662 - acc: 0.8657 - val_loss: 0.3502 - val_acc: 0.9018\n",
            "Epoch 5/250\n",
            "48000/48000 [==============================] - 2s 41us/step - loss: 0.4235 - acc: 0.8764 - val_loss: 0.3228 - val_acc: 0.9092\n",
            "Epoch 6/250\n",
            "37632/48000 [======================>.......] - ETA: 0s - loss: 0.3964 - acc: 0.8851"
          ],
          "name": "stdout"
        },
        {
          "output_type": "stream",
          "text": [
            "48000/48000 [==============================] - 2s 41us/step - loss: 0.3923 - acc: 0.8867 - val_loss: 0.3021 - val_acc: 0.9135\n",
            "Epoch 7/250\n",
            "48000/48000 [==============================] - 2s 41us/step - loss: 0.3701 - acc: 0.8943 - val_loss: 0.2859 - val_acc: 0.9180\n",
            "Epoch 8/250\n",
            "48000/48000 [==============================] - 2s 41us/step - loss: 0.3494 - acc: 0.8999 - val_loss: 0.2725 - val_acc: 0.9213\n",
            "Epoch 9/250\n",
            "48000/48000 [==============================] - 2s 41us/step - loss: 0.3318 - acc: 0.9046 - val_loss: 0.2609 - val_acc: 0.9247\n",
            "Epoch 10/250\n",
            "48000/48000 [==============================] - 2s 42us/step - loss: 0.3163 - acc: 0.9090 - val_loss: 0.2506 - val_acc: 0.9275\n",
            "Epoch 11/250\n",
            "48000/48000 [==============================] - 2s 41us/step - loss: 0.3042 - acc: 0.9128 - val_loss: 0.2412 - val_acc: 0.9305\n",
            "Epoch 12/250\n",
            "12160/48000 [======>.......................] - ETA: 1s - loss: 0.3009 - acc: 0.9095"
          ],
          "name": "stdout"
        },
        {
          "output_type": "stream",
          "text": [
            "48000/48000 [==============================] - 2s 42us/step - loss: 0.2942 - acc: 0.9141 - val_loss: 0.2336 - val_acc: 0.9333\n",
            "Epoch 13/250\n",
            "48000/48000 [==============================] - 2s 40us/step - loss: 0.2825 - acc: 0.9185 - val_loss: 0.2258 - val_acc: 0.9348\n",
            "Epoch 14/250\n",
            "48000/48000 [==============================] - 2s 40us/step - loss: 0.2720 - acc: 0.9225 - val_loss: 0.2194 - val_acc: 0.9373\n",
            "Epoch 15/250\n",
            "48000/48000 [==============================] - 2s 40us/step - loss: 0.2646 - acc: 0.9232 - val_loss: 0.2137 - val_acc: 0.9386\n",
            "Epoch 16/250\n",
            "48000/48000 [==============================] - 2s 41us/step - loss: 0.2587 - acc: 0.9254 - val_loss: 0.2075 - val_acc: 0.9419\n",
            "Epoch 17/250\n",
            "48000/48000 [==============================] - 2s 41us/step - loss: 0.2493 - acc: 0.9281 - val_loss: 0.2017 - val_acc: 0.9437\n",
            "Epoch 18/250\n",
            " 8320/48000 [====>.........................] - ETA: 1s - loss: 0.2447 - acc: 0.9298"
          ],
          "name": "stdout"
        },
        {
          "output_type": "stream",
          "text": [
            "48000/48000 [==============================] - 2s 41us/step - loss: 0.2429 - acc: 0.9309 - val_loss: 0.1970 - val_acc: 0.9440\n",
            "Epoch 19/250\n",
            "48000/48000 [==============================] - 2s 41us/step - loss: 0.2346 - acc: 0.9321 - val_loss: 0.1927 - val_acc: 0.9457\n",
            "Epoch 20/250\n",
            "48000/48000 [==============================] - 2s 41us/step - loss: 0.2306 - acc: 0.9334 - val_loss: 0.1885 - val_acc: 0.9466\n",
            "Epoch 21/250\n",
            "48000/48000 [==============================] - 2s 41us/step - loss: 0.2237 - acc: 0.9354 - val_loss: 0.1839 - val_acc: 0.9490\n",
            "Epoch 22/250\n",
            "48000/48000 [==============================] - 2s 41us/step - loss: 0.2193 - acc: 0.9379 - val_loss: 0.1802 - val_acc: 0.9489\n",
            "Epoch 23/250\n",
            "48000/48000 [==============================] - 2s 41us/step - loss: 0.2132 - acc: 0.9396 - val_loss: 0.1762 - val_acc: 0.9499\n",
            "Epoch 24/250\n",
            " 6528/48000 [===>..........................] - ETA: 1s - loss: 0.1998 - acc: 0.9413"
          ],
          "name": "stdout"
        },
        {
          "output_type": "stream",
          "text": [
            "48000/48000 [==============================] - 2s 41us/step - loss: 0.2097 - acc: 0.9391 - val_loss: 0.1741 - val_acc: 0.9509\n",
            "Epoch 25/250\n",
            "48000/48000 [==============================] - 2s 41us/step - loss: 0.2045 - acc: 0.9408 - val_loss: 0.1702 - val_acc: 0.9523\n",
            "Epoch 26/250\n",
            "48000/48000 [==============================] - 2s 41us/step - loss: 0.2008 - acc: 0.9412 - val_loss: 0.1670 - val_acc: 0.9526\n",
            "Epoch 27/250\n",
            "48000/48000 [==============================] - 2s 41us/step - loss: 0.1966 - acc: 0.9444 - val_loss: 0.1637 - val_acc: 0.9537\n",
            "Epoch 28/250\n",
            "48000/48000 [==============================] - 2s 41us/step - loss: 0.1908 - acc: 0.9440 - val_loss: 0.1615 - val_acc: 0.9531\n",
            "Epoch 29/250\n",
            "48000/48000 [==============================] - 2s 41us/step - loss: 0.1884 - acc: 0.9451 - val_loss: 0.1587 - val_acc: 0.9537\n",
            "Epoch 30/250\n",
            " 8320/48000 [====>.........................] - ETA: 1s - loss: 0.1822 - acc: 0.9499"
          ],
          "name": "stdout"
        },
        {
          "output_type": "stream",
          "text": [
            "48000/48000 [==============================] - 2s 41us/step - loss: 0.1833 - acc: 0.9472 - val_loss: 0.1560 - val_acc: 0.9543\n",
            "Epoch 31/250\n",
            "48000/48000 [==============================] - 2s 42us/step - loss: 0.1820 - acc: 0.9465 - val_loss: 0.1532 - val_acc: 0.9561\n",
            "Epoch 32/250\n",
            "48000/48000 [==============================] - 2s 41us/step - loss: 0.1759 - acc: 0.9491 - val_loss: 0.1509 - val_acc: 0.9558\n",
            "Epoch 33/250\n",
            "48000/48000 [==============================] - 2s 41us/step - loss: 0.1752 - acc: 0.9483 - val_loss: 0.1497 - val_acc: 0.9562\n",
            "Epoch 34/250\n",
            "48000/48000 [==============================] - 2s 42us/step - loss: 0.1707 - acc: 0.9500 - val_loss: 0.1473 - val_acc: 0.9574\n",
            "Epoch 35/250\n",
            "48000/48000 [==============================] - 2s 40us/step - loss: 0.1682 - acc: 0.9507 - val_loss: 0.1449 - val_acc: 0.9583\n",
            "Epoch 36/250\n",
            " 8320/48000 [====>.........................] - ETA: 1s - loss: 0.1690 - acc: 0.9504"
          ],
          "name": "stdout"
        },
        {
          "output_type": "stream",
          "text": [
            "48000/48000 [==============================] - 2s 41us/step - loss: 0.1630 - acc: 0.9525 - val_loss: 0.1432 - val_acc: 0.9587\n",
            "Epoch 37/250\n",
            "48000/48000 [==============================] - 2s 40us/step - loss: 0.1626 - acc: 0.9526 - val_loss: 0.1417 - val_acc: 0.9587\n",
            "Epoch 38/250\n",
            "48000/48000 [==============================] - 2s 40us/step - loss: 0.1575 - acc: 0.9545 - val_loss: 0.1397 - val_acc: 0.9599\n",
            "Epoch 39/250\n",
            "48000/48000 [==============================] - 2s 41us/step - loss: 0.1557 - acc: 0.9557 - val_loss: 0.1374 - val_acc: 0.9603\n",
            "Epoch 40/250\n",
            "48000/48000 [==============================] - 2s 41us/step - loss: 0.1520 - acc: 0.9549 - val_loss: 0.1365 - val_acc: 0.9609\n",
            "Epoch 41/250\n",
            "48000/48000 [==============================] - 2s 41us/step - loss: 0.1495 - acc: 0.9571 - val_loss: 0.1343 - val_acc: 0.9617\n",
            "Epoch 42/250\n",
            " 9728/48000 [=====>........................] - ETA: 1s - loss: 0.1534 - acc: 0.9572"
          ],
          "name": "stdout"
        },
        {
          "output_type": "stream",
          "text": [
            "48000/48000 [==============================] - 2s 42us/step - loss: 0.1477 - acc: 0.9572 - val_loss: 0.1338 - val_acc: 0.9620\n",
            "Epoch 43/250\n",
            "48000/48000 [==============================] - 2s 41us/step - loss: 0.1459 - acc: 0.9577 - val_loss: 0.1317 - val_acc: 0.9630\n",
            "Epoch 44/250\n",
            "48000/48000 [==============================] - 2s 40us/step - loss: 0.1458 - acc: 0.9569 - val_loss: 0.1303 - val_acc: 0.9631\n",
            "Epoch 45/250\n",
            "48000/48000 [==============================] - 2s 41us/step - loss: 0.1408 - acc: 0.9592 - val_loss: 0.1300 - val_acc: 0.9623\n",
            "Epoch 46/250\n",
            "48000/48000 [==============================] - 2s 41us/step - loss: 0.1402 - acc: 0.9593 - val_loss: 0.1279 - val_acc: 0.9639\n",
            "Epoch 47/250\n",
            "48000/48000 [==============================] - 2s 41us/step - loss: 0.1375 - acc: 0.9601 - val_loss: 0.1268 - val_acc: 0.9635\n",
            "Epoch 48/250\n",
            " 7552/48000 [===>..........................] - ETA: 1s - loss: 0.1473 - acc: 0.9555"
          ],
          "name": "stdout"
        },
        {
          "output_type": "stream",
          "text": [
            "48000/48000 [==============================] - 2s 42us/step - loss: 0.1362 - acc: 0.9604 - val_loss: 0.1259 - val_acc: 0.9644\n",
            "Epoch 49/250\n",
            "48000/48000 [==============================] - 2s 41us/step - loss: 0.1350 - acc: 0.9609 - val_loss: 0.1242 - val_acc: 0.9644\n",
            "Epoch 50/250\n",
            "48000/48000 [==============================] - 2s 42us/step - loss: 0.1302 - acc: 0.9624 - val_loss: 0.1229 - val_acc: 0.9658\n",
            "Epoch 51/250\n",
            "48000/48000 [==============================] - 2s 41us/step - loss: 0.1287 - acc: 0.9627 - val_loss: 0.1219 - val_acc: 0.9656\n",
            "Epoch 52/250\n",
            "48000/48000 [==============================] - 2s 41us/step - loss: 0.1265 - acc: 0.9631 - val_loss: 0.1207 - val_acc: 0.9657\n",
            "Epoch 53/250\n",
            "48000/48000 [==============================] - 2s 42us/step - loss: 0.1269 - acc: 0.9634 - val_loss: 0.1199 - val_acc: 0.9658\n",
            "Epoch 54/250\n",
            " 4096/48000 [=>............................] - ETA: 1s - loss: 0.1141 - acc: 0.9673"
          ],
          "name": "stdout"
        },
        {
          "output_type": "stream",
          "text": [
            "48000/48000 [==============================] - 2s 41us/step - loss: 0.1243 - acc: 0.9635 - val_loss: 0.1191 - val_acc: 0.9666\n",
            "Epoch 55/250\n",
            "48000/48000 [==============================] - 2s 42us/step - loss: 0.1249 - acc: 0.9637 - val_loss: 0.1181 - val_acc: 0.9666\n",
            "Epoch 56/250\n",
            "48000/48000 [==============================] - 2s 41us/step - loss: 0.1205 - acc: 0.9651 - val_loss: 0.1173 - val_acc: 0.9669\n",
            "Epoch 57/250\n",
            "48000/48000 [==============================] - 2s 40us/step - loss: 0.1201 - acc: 0.9666 - val_loss: 0.1162 - val_acc: 0.9670\n",
            "Epoch 58/250\n",
            "48000/48000 [==============================] - 2s 41us/step - loss: 0.1174 - acc: 0.9658 - val_loss: 0.1147 - val_acc: 0.9676\n",
            "Epoch 59/250\n",
            "48000/48000 [==============================] - 2s 41us/step - loss: 0.1148 - acc: 0.9669 - val_loss: 0.1140 - val_acc: 0.9677\n",
            "Epoch 60/250\n",
            " 7040/48000 [===>..........................] - ETA: 1s - loss: 0.1168 - acc: 0.9642"
          ],
          "name": "stdout"
        },
        {
          "output_type": "stream",
          "text": [
            "48000/48000 [==============================] - 2s 41us/step - loss: 0.1138 - acc: 0.9670 - val_loss: 0.1132 - val_acc: 0.9678\n",
            "Epoch 61/250\n",
            "48000/48000 [==============================] - 2s 41us/step - loss: 0.1136 - acc: 0.9665 - val_loss: 0.1128 - val_acc: 0.9673\n",
            "Epoch 62/250\n",
            "48000/48000 [==============================] - 2s 41us/step - loss: 0.1121 - acc: 0.9676 - val_loss: 0.1118 - val_acc: 0.9679\n",
            "Epoch 63/250\n",
            "48000/48000 [==============================] - 2s 41us/step - loss: 0.1091 - acc: 0.9688 - val_loss: 0.1110 - val_acc: 0.9686\n",
            "Epoch 64/250\n",
            "48000/48000 [==============================] - 2s 42us/step - loss: 0.1078 - acc: 0.9695 - val_loss: 0.1101 - val_acc: 0.9681\n",
            "Epoch 65/250\n",
            "48000/48000 [==============================] - 2s 41us/step - loss: 0.1091 - acc: 0.9683 - val_loss: 0.1095 - val_acc: 0.9687\n",
            "Epoch 66/250\n",
            " 8576/48000 [====>.........................] - ETA: 1s - loss: 0.1073 - acc: 0.9685"
          ],
          "name": "stdout"
        },
        {
          "output_type": "stream",
          "text": [
            "48000/48000 [==============================] - 2s 41us/step - loss: 0.1084 - acc: 0.9687 - val_loss: 0.1087 - val_acc: 0.9697\n",
            "Epoch 67/250\n",
            "48000/48000 [==============================] - 2s 41us/step - loss: 0.1041 - acc: 0.9696 - val_loss: 0.1084 - val_acc: 0.9685\n",
            "Epoch 68/250\n",
            "48000/48000 [==============================] - 2s 41us/step - loss: 0.1038 - acc: 0.9706 - val_loss: 0.1072 - val_acc: 0.9683\n",
            "Epoch 69/250\n",
            "48000/48000 [==============================] - 2s 42us/step - loss: 0.1013 - acc: 0.9702 - val_loss: 0.1068 - val_acc: 0.9690\n",
            "Epoch 70/250\n",
            "48000/48000 [==============================] - 2s 41us/step - loss: 0.1004 - acc: 0.9708 - val_loss: 0.1059 - val_acc: 0.9701\n",
            "Epoch 71/250\n",
            "48000/48000 [==============================] - 2s 41us/step - loss: 0.0997 - acc: 0.9711 - val_loss: 0.1054 - val_acc: 0.9694\n",
            "Epoch 72/250\n",
            " 6912/48000 [===>..........................] - ETA: 1s - loss: 0.0985 - acc: 0.9712"
          ],
          "name": "stdout"
        },
        {
          "output_type": "stream",
          "text": [
            "48000/48000 [==============================] - 2s 42us/step - loss: 0.0984 - acc: 0.9713 - val_loss: 0.1050 - val_acc: 0.9698\n",
            "Epoch 73/250\n",
            "48000/48000 [==============================] - 2s 42us/step - loss: 0.0981 - acc: 0.9715 - val_loss: 0.1042 - val_acc: 0.9698\n",
            "Epoch 74/250\n",
            "48000/48000 [==============================] - 2s 42us/step - loss: 0.0969 - acc: 0.9718 - val_loss: 0.1039 - val_acc: 0.9699\n",
            "Epoch 75/250\n",
            "48000/48000 [==============================] - 2s 41us/step - loss: 0.0948 - acc: 0.9726 - val_loss: 0.1040 - val_acc: 0.9698\n",
            "Epoch 76/250\n",
            "48000/48000 [==============================] - 2s 41us/step - loss: 0.0944 - acc: 0.9735 - val_loss: 0.1030 - val_acc: 0.9703\n",
            "Epoch 77/250\n",
            "48000/48000 [==============================] - 2s 41us/step - loss: 0.0945 - acc: 0.9724 - val_loss: 0.1026 - val_acc: 0.9702\n",
            "Epoch 78/250\n",
            " 4224/48000 [=>............................] - ETA: 1s - loss: 0.0879 - acc: 0.9718"
          ],
          "name": "stdout"
        },
        {
          "output_type": "stream",
          "text": [
            "48000/48000 [==============================] - 2s 41us/step - loss: 0.0931 - acc: 0.9725 - val_loss: 0.1018 - val_acc: 0.9711\n",
            "Epoch 79/250\n",
            "48000/48000 [==============================] - 2s 41us/step - loss: 0.0913 - acc: 0.9741 - val_loss: 0.1015 - val_acc: 0.9708\n",
            "Epoch 80/250\n",
            "48000/48000 [==============================] - 2s 42us/step - loss: 0.0916 - acc: 0.9731 - val_loss: 0.1013 - val_acc: 0.9708\n",
            "Epoch 81/250\n",
            "48000/48000 [==============================] - 2s 41us/step - loss: 0.0893 - acc: 0.9736 - val_loss: 0.1008 - val_acc: 0.9712\n",
            "Epoch 82/250\n",
            "48000/48000 [==============================] - 2s 41us/step - loss: 0.0881 - acc: 0.9749 - val_loss: 0.1000 - val_acc: 0.9709\n",
            "Epoch 83/250\n",
            "48000/48000 [==============================] - 2s 41us/step - loss: 0.0874 - acc: 0.9749 - val_loss: 0.1000 - val_acc: 0.9719\n",
            "Epoch 84/250\n",
            " 6784/48000 [===>..........................] - ETA: 1s - loss: 0.0834 - acc: 0.9763"
          ],
          "name": "stdout"
        },
        {
          "output_type": "stream",
          "text": [
            "48000/48000 [==============================] - 2s 41us/step - loss: 0.0869 - acc: 0.9751 - val_loss: 0.0991 - val_acc: 0.9720\n",
            "Epoch 85/250\n",
            "48000/48000 [==============================] - 2s 41us/step - loss: 0.0871 - acc: 0.9748 - val_loss: 0.0984 - val_acc: 0.9714\n",
            "Epoch 86/250\n",
            "48000/48000 [==============================] - 2s 41us/step - loss: 0.0857 - acc: 0.9760 - val_loss: 0.0980 - val_acc: 0.9718\n",
            "Epoch 87/250\n",
            "48000/48000 [==============================] - 2s 41us/step - loss: 0.0851 - acc: 0.9749 - val_loss: 0.0982 - val_acc: 0.9718\n",
            "Epoch 88/250\n",
            "48000/48000 [==============================] - 2s 41us/step - loss: 0.0841 - acc: 0.9756 - val_loss: 0.0975 - val_acc: 0.9716\n",
            "Epoch 89/250\n",
            "48000/48000 [==============================] - 2s 42us/step - loss: 0.0836 - acc: 0.9760 - val_loss: 0.0975 - val_acc: 0.9719\n",
            "Epoch 90/250\n",
            " 6784/48000 [===>..........................] - ETA: 1s - loss: 0.0757 - acc: 0.9773"
          ],
          "name": "stdout"
        },
        {
          "output_type": "stream",
          "text": [
            "48000/48000 [==============================] - 2s 42us/step - loss: 0.0814 - acc: 0.9762 - val_loss: 0.0975 - val_acc: 0.9723\n",
            "Epoch 91/250\n",
            "48000/48000 [==============================] - 2s 42us/step - loss: 0.0804 - acc: 0.9770 - val_loss: 0.0970 - val_acc: 0.9721\n",
            "Epoch 92/250\n",
            "48000/48000 [==============================] - 2s 41us/step - loss: 0.0796 - acc: 0.9770 - val_loss: 0.0961 - val_acc: 0.9726\n",
            "Epoch 93/250\n",
            "48000/48000 [==============================] - 2s 41us/step - loss: 0.0790 - acc: 0.9770 - val_loss: 0.0958 - val_acc: 0.9728\n",
            "Epoch 94/250\n",
            "48000/48000 [==============================] - 2s 41us/step - loss: 0.0789 - acc: 0.9770 - val_loss: 0.0960 - val_acc: 0.9729\n",
            "Epoch 95/250\n",
            "48000/48000 [==============================] - 2s 41us/step - loss: 0.0787 - acc: 0.9773 - val_loss: 0.0948 - val_acc: 0.9728\n",
            "Epoch 96/250\n",
            " 8448/48000 [====>.........................] - ETA: 1s - loss: 0.0787 - acc: 0.9754"
          ],
          "name": "stdout"
        },
        {
          "output_type": "stream",
          "text": [
            "48000/48000 [==============================] - 2s 40us/step - loss: 0.0761 - acc: 0.9784 - val_loss: 0.0941 - val_acc: 0.9732\n",
            "Epoch 97/250\n",
            "48000/48000 [==============================] - 2s 41us/step - loss: 0.0764 - acc: 0.9785 - val_loss: 0.0945 - val_acc: 0.9729\n",
            "Epoch 98/250\n",
            "48000/48000 [==============================] - 2s 41us/step - loss: 0.0744 - acc: 0.9783 - val_loss: 0.0938 - val_acc: 0.9730\n",
            "Epoch 99/250\n",
            "48000/48000 [==============================] - 2s 40us/step - loss: 0.0759 - acc: 0.9786 - val_loss: 0.0939 - val_acc: 0.9738\n",
            "Epoch 100/250\n",
            "48000/48000 [==============================] - 2s 41us/step - loss: 0.0731 - acc: 0.9791 - val_loss: 0.0938 - val_acc: 0.9734\n",
            "Epoch 101/250\n",
            "48000/48000 [==============================] - 2s 41us/step - loss: 0.0749 - acc: 0.9787 - val_loss: 0.0933 - val_acc: 0.9738\n",
            "Epoch 102/250\n",
            " 8576/48000 [====>.........................] - ETA: 1s - loss: 0.0715 - acc: 0.9790"
          ],
          "name": "stdout"
        },
        {
          "output_type": "stream",
          "text": [
            "48000/48000 [==============================] - 2s 40us/step - loss: 0.0738 - acc: 0.9792 - val_loss: 0.0931 - val_acc: 0.9742\n",
            "Epoch 103/250\n",
            "48000/48000 [==============================] - 2s 41us/step - loss: 0.0715 - acc: 0.9792 - val_loss: 0.0924 - val_acc: 0.9730\n",
            "Epoch 104/250\n",
            "48000/48000 [==============================] - 2s 41us/step - loss: 0.0700 - acc: 0.9801 - val_loss: 0.0918 - val_acc: 0.9733\n",
            "Epoch 105/250\n",
            "48000/48000 [==============================] - 2s 40us/step - loss: 0.0705 - acc: 0.9800 - val_loss: 0.0918 - val_acc: 0.9738\n",
            "Epoch 106/250\n",
            "48000/48000 [==============================] - 2s 41us/step - loss: 0.0699 - acc: 0.9799 - val_loss: 0.0916 - val_acc: 0.9745\n",
            "Epoch 107/250\n",
            "48000/48000 [==============================] - 2s 40us/step - loss: 0.0703 - acc: 0.9796 - val_loss: 0.0920 - val_acc: 0.9741\n",
            "Epoch 108/250\n",
            " 8704/48000 [====>.........................] - ETA: 1s - loss: 0.0711 - acc: 0.9806"
          ],
          "name": "stdout"
        },
        {
          "output_type": "stream",
          "text": [
            "48000/48000 [==============================] - 2s 41us/step - loss: 0.0684 - acc: 0.9800 - val_loss: 0.0913 - val_acc: 0.9736\n",
            "Epoch 109/250\n",
            "48000/48000 [==============================] - 2s 41us/step - loss: 0.0678 - acc: 0.9799 - val_loss: 0.0910 - val_acc: 0.9744\n",
            "Epoch 110/250\n",
            "48000/48000 [==============================] - 2s 41us/step - loss: 0.0672 - acc: 0.9807 - val_loss: 0.0912 - val_acc: 0.9745\n",
            "Epoch 111/250\n",
            "48000/48000 [==============================] - 2s 41us/step - loss: 0.0685 - acc: 0.9808 - val_loss: 0.0908 - val_acc: 0.9747\n",
            "Epoch 112/250\n",
            "48000/48000 [==============================] - 2s 41us/step - loss: 0.0650 - acc: 0.9818 - val_loss: 0.0902 - val_acc: 0.9751\n",
            "Epoch 113/250\n",
            "48000/48000 [==============================] - 2s 41us/step - loss: 0.0663 - acc: 0.9810 - val_loss: 0.0899 - val_acc: 0.9744\n",
            "Epoch 114/250\n",
            " 5632/48000 [==>...........................] - ETA: 1s - loss: 0.0631 - acc: 0.9824"
          ],
          "name": "stdout"
        },
        {
          "output_type": "stream",
          "text": [
            "48000/48000 [==============================] - 2s 41us/step - loss: 0.0651 - acc: 0.9817 - val_loss: 0.0891 - val_acc: 0.9748\n",
            "Epoch 115/250\n",
            "48000/48000 [==============================] - 2s 41us/step - loss: 0.0659 - acc: 0.9813 - val_loss: 0.0895 - val_acc: 0.9748\n",
            "Epoch 116/250\n",
            "48000/48000 [==============================] - 2s 41us/step - loss: 0.0638 - acc: 0.9819 - val_loss: 0.0893 - val_acc: 0.9748\n",
            "Epoch 117/250\n",
            "48000/48000 [==============================] - 2s 41us/step - loss: 0.0634 - acc: 0.9821 - val_loss: 0.0894 - val_acc: 0.9752\n",
            "Epoch 118/250\n",
            "48000/48000 [==============================] - 2s 40us/step - loss: 0.0637 - acc: 0.9819 - val_loss: 0.0895 - val_acc: 0.9749\n",
            "Epoch 119/250\n",
            "48000/48000 [==============================] - 2s 42us/step - loss: 0.0624 - acc: 0.9812 - val_loss: 0.0888 - val_acc: 0.9746\n",
            "Epoch 120/250\n",
            " 5760/48000 [==>...........................] - ETA: 1s - loss: 0.0605 - acc: 0.9842"
          ],
          "name": "stdout"
        },
        {
          "output_type": "stream",
          "text": [
            "48000/48000 [==============================] - 2s 40us/step - loss: 0.0610 - acc: 0.9829 - val_loss: 0.0886 - val_acc: 0.9749\n",
            "Epoch 121/250\n",
            "48000/48000 [==============================] - 2s 41us/step - loss: 0.0614 - acc: 0.9825 - val_loss: 0.0883 - val_acc: 0.9751\n",
            "Epoch 122/250\n",
            "48000/48000 [==============================] - 2s 41us/step - loss: 0.0609 - acc: 0.9822 - val_loss: 0.0883 - val_acc: 0.9749\n",
            "Epoch 123/250\n",
            "48000/48000 [==============================] - 2s 41us/step - loss: 0.0609 - acc: 0.9826 - val_loss: 0.0877 - val_acc: 0.9751\n",
            "Epoch 124/250\n",
            "48000/48000 [==============================] - 2s 41us/step - loss: 0.0598 - acc: 0.9821 - val_loss: 0.0876 - val_acc: 0.9751\n",
            "Epoch 125/250\n",
            "48000/48000 [==============================] - 2s 41us/step - loss: 0.0588 - acc: 0.9835 - val_loss: 0.0884 - val_acc: 0.9753\n",
            "Epoch 126/250\n",
            " 5760/48000 [==>...........................] - ETA: 1s - loss: 0.0509 - acc: 0.9870"
          ],
          "name": "stdout"
        },
        {
          "output_type": "stream",
          "text": [
            "48000/48000 [==============================] - 2s 41us/step - loss: 0.0596 - acc: 0.9833 - val_loss: 0.0877 - val_acc: 0.9748\n",
            "Epoch 127/250\n",
            "48000/48000 [==============================] - 2s 41us/step - loss: 0.0585 - acc: 0.9824 - val_loss: 0.0876 - val_acc: 0.9753\n",
            "Epoch 128/250\n",
            "48000/48000 [==============================] - 2s 41us/step - loss: 0.0580 - acc: 0.9837 - val_loss: 0.0868 - val_acc: 0.9755\n",
            "Epoch 129/250\n",
            "48000/48000 [==============================] - 2s 41us/step - loss: 0.0560 - acc: 0.9847 - val_loss: 0.0869 - val_acc: 0.9753\n",
            "Epoch 130/250\n",
            "48000/48000 [==============================] - 2s 41us/step - loss: 0.0563 - acc: 0.9844 - val_loss: 0.0869 - val_acc: 0.9748\n",
            "Epoch 131/250\n",
            "48000/48000 [==============================] - 2s 41us/step - loss: 0.0562 - acc: 0.9841 - val_loss: 0.0868 - val_acc: 0.9758\n",
            "Epoch 132/250\n",
            " 5632/48000 [==>...........................] - ETA: 1s - loss: 0.0507 - acc: 0.9867"
          ],
          "name": "stdout"
        },
        {
          "output_type": "stream",
          "text": [
            "48000/48000 [==============================] - 2s 41us/step - loss: 0.0547 - acc: 0.9845 - val_loss: 0.0865 - val_acc: 0.9760\n",
            "Epoch 133/250\n",
            "48000/48000 [==============================] - 2s 41us/step - loss: 0.0544 - acc: 0.9841 - val_loss: 0.0866 - val_acc: 0.9761\n",
            "Epoch 134/250\n",
            "48000/48000 [==============================] - 2s 41us/step - loss: 0.0557 - acc: 0.9837 - val_loss: 0.0861 - val_acc: 0.9758\n",
            "Epoch 135/250\n",
            "48000/48000 [==============================] - 2s 41us/step - loss: 0.0549 - acc: 0.9840 - val_loss: 0.0866 - val_acc: 0.9753\n",
            "Epoch 136/250\n",
            "48000/48000 [==============================] - 2s 41us/step - loss: 0.0547 - acc: 0.9850 - val_loss: 0.0866 - val_acc: 0.9762\n",
            "Epoch 137/250\n",
            "48000/48000 [==============================] - 2s 41us/step - loss: 0.0527 - acc: 0.9851 - val_loss: 0.0864 - val_acc: 0.9755\n",
            "Epoch 138/250\n",
            " 5376/48000 [==>...........................] - ETA: 1s - loss: 0.0483 - acc: 0.9862"
          ],
          "name": "stdout"
        },
        {
          "output_type": "stream",
          "text": [
            "48000/48000 [==============================] - 2s 41us/step - loss: 0.0526 - acc: 0.9851 - val_loss: 0.0857 - val_acc: 0.9759\n",
            "Epoch 139/250\n",
            "48000/48000 [==============================] - 2s 41us/step - loss: 0.0530 - acc: 0.9848 - val_loss: 0.0859 - val_acc: 0.9761\n",
            "Epoch 140/250\n",
            "48000/48000 [==============================] - 2s 41us/step - loss: 0.0532 - acc: 0.9845 - val_loss: 0.0855 - val_acc: 0.9765\n",
            "Epoch 141/250\n",
            "48000/48000 [==============================] - 2s 41us/step - loss: 0.0513 - acc: 0.9849 - val_loss: 0.0851 - val_acc: 0.9773\n",
            "Epoch 142/250\n",
            "48000/48000 [==============================] - 2s 41us/step - loss: 0.0505 - acc: 0.9857 - val_loss: 0.0858 - val_acc: 0.9758\n",
            "Epoch 143/250\n",
            "48000/48000 [==============================] - 2s 41us/step - loss: 0.0501 - acc: 0.9859 - val_loss: 0.0854 - val_acc: 0.9762\n",
            "Epoch 144/250\n",
            " 5760/48000 [==>...........................] - ETA: 1s - loss: 0.0501 - acc: 0.9845"
          ],
          "name": "stdout"
        },
        {
          "output_type": "stream",
          "text": [
            "48000/48000 [==============================] - 2s 41us/step - loss: 0.0499 - acc: 0.9854 - val_loss: 0.0859 - val_acc: 0.9770\n",
            "Epoch 145/250\n",
            "48000/48000 [==============================] - 2s 41us/step - loss: 0.0508 - acc: 0.9860 - val_loss: 0.0846 - val_acc: 0.9758\n",
            "Epoch 146/250\n",
            "48000/48000 [==============================] - 2s 41us/step - loss: 0.0488 - acc: 0.9867 - val_loss: 0.0842 - val_acc: 0.9762\n",
            "Epoch 147/250\n",
            "48000/48000 [==============================] - 2s 40us/step - loss: 0.0505 - acc: 0.9857 - val_loss: 0.0847 - val_acc: 0.9761\n",
            "Epoch 148/250\n",
            "48000/48000 [==============================] - 2s 41us/step - loss: 0.0493 - acc: 0.9859 - val_loss: 0.0849 - val_acc: 0.9767\n",
            "Epoch 149/250\n",
            "48000/48000 [==============================] - 2s 42us/step - loss: 0.0486 - acc: 0.9859 - val_loss: 0.0842 - val_acc: 0.9761\n",
            "Epoch 150/250\n",
            " 4096/48000 [=>............................] - ETA: 1s - loss: 0.0573 - acc: 0.9851"
          ],
          "name": "stdout"
        },
        {
          "output_type": "stream",
          "text": [
            "48000/48000 [==============================] - 2s 41us/step - loss: 0.0483 - acc: 0.9862 - val_loss: 0.0840 - val_acc: 0.9759\n",
            "Epoch 151/250\n",
            "48000/48000 [==============================] - 2s 41us/step - loss: 0.0486 - acc: 0.9866 - val_loss: 0.0838 - val_acc: 0.9768\n",
            "Epoch 152/250\n",
            "48000/48000 [==============================] - 2s 41us/step - loss: 0.0480 - acc: 0.9863 - val_loss: 0.0838 - val_acc: 0.9771\n",
            "Epoch 153/250\n",
            "48000/48000 [==============================] - 2s 41us/step - loss: 0.0473 - acc: 0.9869 - val_loss: 0.0839 - val_acc: 0.9756\n",
            "Epoch 154/250\n",
            "48000/48000 [==============================] - 2s 41us/step - loss: 0.0453 - acc: 0.9876 - val_loss: 0.0838 - val_acc: 0.9768\n",
            "Epoch 155/250\n",
            "48000/48000 [==============================] - 2s 41us/step - loss: 0.0465 - acc: 0.9870 - val_loss: 0.0839 - val_acc: 0.9763\n",
            "Epoch 156/250\n",
            " 5888/48000 [==>...........................] - ETA: 1s - loss: 0.0481 - acc: 0.9871"
          ],
          "name": "stdout"
        },
        {
          "output_type": "stream",
          "text": [
            "48000/48000 [==============================] - 2s 40us/step - loss: 0.0471 - acc: 0.9862 - val_loss: 0.0837 - val_acc: 0.9764\n",
            "Epoch 157/250\n",
            "48000/48000 [==============================] - 2s 41us/step - loss: 0.0472 - acc: 0.9867 - val_loss: 0.0832 - val_acc: 0.9766\n",
            "Epoch 158/250\n",
            "48000/48000 [==============================] - 2s 40us/step - loss: 0.0452 - acc: 0.9869 - val_loss: 0.0833 - val_acc: 0.9761\n",
            "Epoch 159/250\n",
            "48000/48000 [==============================] - 2s 41us/step - loss: 0.0448 - acc: 0.9872 - val_loss: 0.0837 - val_acc: 0.9768\n",
            "Epoch 160/250\n",
            "48000/48000 [==============================] - 2s 40us/step - loss: 0.0438 - acc: 0.9881 - val_loss: 0.0833 - val_acc: 0.9759\n",
            "Epoch 161/250\n",
            "48000/48000 [==============================] - 2s 41us/step - loss: 0.0443 - acc: 0.9876 - val_loss: 0.0830 - val_acc: 0.9764\n",
            "Epoch 162/250\n",
            " 8448/48000 [====>.........................] - ETA: 1s - loss: 0.0417 - acc: 0.9885"
          ],
          "name": "stdout"
        },
        {
          "output_type": "stream",
          "text": [
            "48000/48000 [==============================] - 2s 41us/step - loss: 0.0447 - acc: 0.9876 - val_loss: 0.0830 - val_acc: 0.9766\n",
            "Epoch 163/250\n",
            "48000/48000 [==============================] - 2s 40us/step - loss: 0.0442 - acc: 0.9876 - val_loss: 0.0834 - val_acc: 0.9768\n",
            "Epoch 164/250\n",
            "48000/48000 [==============================] - 2s 40us/step - loss: 0.0432 - acc: 0.9874 - val_loss: 0.0835 - val_acc: 0.9765\n",
            "Epoch 165/250\n",
            "48000/48000 [==============================] - 2s 41us/step - loss: 0.0427 - acc: 0.9885 - val_loss: 0.0829 - val_acc: 0.9763\n",
            "Epoch 166/250\n",
            "48000/48000 [==============================] - 2s 42us/step - loss: 0.0433 - acc: 0.9878 - val_loss: 0.0839 - val_acc: 0.9766\n",
            "Epoch 167/250\n",
            "48000/48000 [==============================] - 2s 41us/step - loss: 0.0423 - acc: 0.9884 - val_loss: 0.0830 - val_acc: 0.9764\n",
            "Epoch 168/250\n",
            " 8704/48000 [====>.........................] - ETA: 1s - loss: 0.0417 - acc: 0.9876"
          ],
          "name": "stdout"
        },
        {
          "output_type": "stream",
          "text": [
            "48000/48000 [==============================] - 2s 40us/step - loss: 0.0422 - acc: 0.9882 - val_loss: 0.0829 - val_acc: 0.9768\n",
            "Epoch 169/250\n",
            "48000/48000 [==============================] - 2s 41us/step - loss: 0.0426 - acc: 0.9882 - val_loss: 0.0830 - val_acc: 0.9768\n",
            "Epoch 170/250\n",
            "48000/48000 [==============================] - 2s 41us/step - loss: 0.0411 - acc: 0.9884 - val_loss: 0.0831 - val_acc: 0.9766\n",
            "Epoch 171/250\n",
            "48000/48000 [==============================] - 2s 41us/step - loss: 0.0414 - acc: 0.9880 - val_loss: 0.0831 - val_acc: 0.9764\n",
            "Epoch 172/250\n",
            "48000/48000 [==============================] - 2s 40us/step - loss: 0.0406 - acc: 0.9884 - val_loss: 0.0838 - val_acc: 0.9763\n",
            "Epoch 173/250\n",
            "48000/48000 [==============================] - 2s 41us/step - loss: 0.0406 - acc: 0.9890 - val_loss: 0.0829 - val_acc: 0.9773\n",
            "Epoch 174/250\n",
            " 8576/48000 [====>.........................] - ETA: 1s - loss: 0.0400 - acc: 0.9878"
          ],
          "name": "stdout"
        },
        {
          "output_type": "stream",
          "text": [
            "48000/48000 [==============================] - 2s 41us/step - loss: 0.0399 - acc: 0.9886 - val_loss: 0.0826 - val_acc: 0.9773\n",
            "Epoch 175/250\n",
            "48000/48000 [==============================] - 2s 41us/step - loss: 0.0400 - acc: 0.9887 - val_loss: 0.0830 - val_acc: 0.9770\n",
            "Epoch 176/250\n",
            "48000/48000 [==============================] - 2s 41us/step - loss: 0.0392 - acc: 0.9892 - val_loss: 0.0833 - val_acc: 0.9770\n",
            "Epoch 177/250\n",
            "48000/48000 [==============================] - 2s 41us/step - loss: 0.0388 - acc: 0.9892 - val_loss: 0.0829 - val_acc: 0.9769\n",
            "Epoch 178/250\n",
            "48000/48000 [==============================] - 2s 41us/step - loss: 0.0397 - acc: 0.9888 - val_loss: 0.0830 - val_acc: 0.9768\n",
            "Epoch 179/250\n",
            "48000/48000 [==============================] - 2s 40us/step - loss: 0.0390 - acc: 0.9889 - val_loss: 0.0830 - val_acc: 0.9770\n",
            "Epoch 180/250\n",
            " 8320/48000 [====>.........................] - ETA: 1s - loss: 0.0379 - acc: 0.9889"
          ],
          "name": "stdout"
        },
        {
          "output_type": "stream",
          "text": [
            "48000/48000 [==============================] - 2s 41us/step - loss: 0.0388 - acc: 0.9890 - val_loss: 0.0828 - val_acc: 0.9764\n",
            "Epoch 181/250\n",
            "48000/48000 [==============================] - 2s 41us/step - loss: 0.0384 - acc: 0.9892 - val_loss: 0.0825 - val_acc: 0.9774\n",
            "Epoch 182/250\n",
            "48000/48000 [==============================] - 2s 41us/step - loss: 0.0386 - acc: 0.9888 - val_loss: 0.0822 - val_acc: 0.9773\n",
            "Epoch 183/250\n",
            "48000/48000 [==============================] - 2s 41us/step - loss: 0.0381 - acc: 0.9893 - val_loss: 0.0821 - val_acc: 0.9773\n",
            "Epoch 184/250\n",
            "48000/48000 [==============================] - 2s 41us/step - loss: 0.0381 - acc: 0.9892 - val_loss: 0.0823 - val_acc: 0.9773\n",
            "Epoch 185/250\n",
            "48000/48000 [==============================] - 2s 41us/step - loss: 0.0367 - acc: 0.9897 - val_loss: 0.0830 - val_acc: 0.9769\n",
            "Epoch 186/250\n",
            " 5760/48000 [==>...........................] - ETA: 1s - loss: 0.0344 - acc: 0.9920"
          ],
          "name": "stdout"
        },
        {
          "output_type": "stream",
          "text": [
            "48000/48000 [==============================] - 2s 42us/step - loss: 0.0369 - acc: 0.9898 - val_loss: 0.0825 - val_acc: 0.9773\n",
            "Epoch 187/250\n",
            "48000/48000 [==============================] - 2s 40us/step - loss: 0.0365 - acc: 0.9893 - val_loss: 0.0822 - val_acc: 0.9771\n",
            "Epoch 188/250\n",
            "48000/48000 [==============================] - 2s 41us/step - loss: 0.0361 - acc: 0.9899 - val_loss: 0.0822 - val_acc: 0.9776\n",
            "Epoch 189/250\n",
            "48000/48000 [==============================] - 2s 41us/step - loss: 0.0360 - acc: 0.9897 - val_loss: 0.0827 - val_acc: 0.9773\n",
            "Epoch 190/250\n",
            "48000/48000 [==============================] - 2s 41us/step - loss: 0.0355 - acc: 0.9894 - val_loss: 0.0824 - val_acc: 0.9775\n",
            "Epoch 191/250\n",
            "48000/48000 [==============================] - 2s 41us/step - loss: 0.0359 - acc: 0.9901 - val_loss: 0.0828 - val_acc: 0.9776\n",
            "Epoch 192/250\n",
            " 6400/48000 [===>..........................] - ETA: 1s - loss: 0.0375 - acc: 0.9917"
          ],
          "name": "stdout"
        },
        {
          "output_type": "stream",
          "text": [
            "48000/48000 [==============================] - 2s 42us/step - loss: 0.0359 - acc: 0.9905 - val_loss: 0.0821 - val_acc: 0.9777\n",
            "Epoch 193/250\n",
            "48000/48000 [==============================] - 2s 41us/step - loss: 0.0352 - acc: 0.9900 - val_loss: 0.0824 - val_acc: 0.9771\n",
            "Epoch 194/250\n",
            "48000/48000 [==============================] - 2s 41us/step - loss: 0.0340 - acc: 0.9904 - val_loss: 0.0831 - val_acc: 0.9775\n",
            "Epoch 195/250\n",
            "48000/48000 [==============================] - 2s 41us/step - loss: 0.0342 - acc: 0.9906 - val_loss: 0.0828 - val_acc: 0.9768\n",
            "Epoch 196/250\n",
            "48000/48000 [==============================] - 2s 42us/step - loss: 0.0345 - acc: 0.9902 - val_loss: 0.0819 - val_acc: 0.9773\n",
            "Epoch 197/250\n",
            "48000/48000 [==============================] - 2s 41us/step - loss: 0.0333 - acc: 0.9909 - val_loss: 0.0818 - val_acc: 0.9771\n",
            "Epoch 198/250\n",
            " 5376/48000 [==>...........................] - ETA: 1s - loss: 0.0334 - acc: 0.9901"
          ],
          "name": "stdout"
        },
        {
          "output_type": "stream",
          "text": [
            "48000/48000 [==============================] - 2s 41us/step - loss: 0.0342 - acc: 0.9904 - val_loss: 0.0819 - val_acc: 0.9774\n",
            "Epoch 199/250\n",
            "48000/48000 [==============================] - 2s 41us/step - loss: 0.0338 - acc: 0.9907 - val_loss: 0.0817 - val_acc: 0.9775\n",
            "Epoch 200/250\n",
            "48000/48000 [==============================] - 2s 40us/step - loss: 0.0332 - acc: 0.9905 - val_loss: 0.0820 - val_acc: 0.9780\n",
            "Epoch 201/250\n",
            "48000/48000 [==============================] - 2s 41us/step - loss: 0.0337 - acc: 0.9907 - val_loss: 0.0815 - val_acc: 0.9778\n",
            "Epoch 202/250\n",
            "48000/48000 [==============================] - 2s 41us/step - loss: 0.0332 - acc: 0.9906 - val_loss: 0.0820 - val_acc: 0.9778\n",
            "Epoch 203/250\n",
            "48000/48000 [==============================] - 2s 40us/step - loss: 0.0323 - acc: 0.9909 - val_loss: 0.0819 - val_acc: 0.9775\n",
            "Epoch 204/250\n",
            " 8320/48000 [====>.........................] - ETA: 1s - loss: 0.0323 - acc: 0.9911"
          ],
          "name": "stdout"
        },
        {
          "output_type": "stream",
          "text": [
            "48000/48000 [==============================] - 2s 41us/step - loss: 0.0332 - acc: 0.9906 - val_loss: 0.0814 - val_acc: 0.9778\n",
            "Epoch 205/250\n",
            "48000/48000 [==============================] - 2s 41us/step - loss: 0.0323 - acc: 0.9910 - val_loss: 0.0811 - val_acc: 0.9783\n",
            "Epoch 206/250\n",
            "48000/48000 [==============================] - 2s 41us/step - loss: 0.0324 - acc: 0.9909 - val_loss: 0.0811 - val_acc: 0.9779\n",
            "Epoch 207/250\n",
            "48000/48000 [==============================] - 2s 40us/step - loss: 0.0323 - acc: 0.9908 - val_loss: 0.0815 - val_acc: 0.9785\n",
            "Epoch 208/250\n",
            "48000/48000 [==============================] - 2s 40us/step - loss: 0.0319 - acc: 0.9913 - val_loss: 0.0816 - val_acc: 0.9781\n",
            "Epoch 209/250\n",
            "48000/48000 [==============================] - 2s 41us/step - loss: 0.0312 - acc: 0.9914 - val_loss: 0.0815 - val_acc: 0.9783\n",
            "Epoch 210/250\n",
            " 7168/48000 [===>..........................] - ETA: 1s - loss: 0.0295 - acc: 0.9919"
          ],
          "name": "stdout"
        },
        {
          "output_type": "stream",
          "text": [
            "48000/48000 [==============================] - 2s 41us/step - loss: 0.0308 - acc: 0.9916 - val_loss: 0.0817 - val_acc: 0.9779\n",
            "Epoch 211/250\n",
            "48000/48000 [==============================] - 2s 40us/step - loss: 0.0313 - acc: 0.9912 - val_loss: 0.0822 - val_acc: 0.9784\n",
            "Epoch 212/250\n",
            "48000/48000 [==============================] - 2s 41us/step - loss: 0.0311 - acc: 0.9912 - val_loss: 0.0818 - val_acc: 0.9780\n",
            "Epoch 213/250\n",
            "48000/48000 [==============================] - 2s 41us/step - loss: 0.0302 - acc: 0.9917 - val_loss: 0.0813 - val_acc: 0.9778\n",
            "Epoch 214/250\n",
            "48000/48000 [==============================] - 2s 40us/step - loss: 0.0302 - acc: 0.9915 - val_loss: 0.0815 - val_acc: 0.9782\n",
            "Epoch 215/250\n",
            "48000/48000 [==============================] - 2s 41us/step - loss: 0.0301 - acc: 0.9918 - val_loss: 0.0814 - val_acc: 0.9782\n",
            "Epoch 216/250\n",
            " 8320/48000 [====>.........................] - ETA: 1s - loss: 0.0315 - acc: 0.9915"
          ],
          "name": "stdout"
        },
        {
          "output_type": "stream",
          "text": [
            "48000/48000 [==============================] - 2s 41us/step - loss: 0.0300 - acc: 0.9920 - val_loss: 0.0821 - val_acc: 0.9783\n",
            "Epoch 217/250\n",
            "48000/48000 [==============================] - 2s 41us/step - loss: 0.0295 - acc: 0.9920 - val_loss: 0.0817 - val_acc: 0.9782\n",
            "Epoch 218/250\n",
            "48000/48000 [==============================] - 2s 41us/step - loss: 0.0305 - acc: 0.9918 - val_loss: 0.0811 - val_acc: 0.9781\n",
            "Epoch 219/250\n",
            "48000/48000 [==============================] - 2s 40us/step - loss: 0.0302 - acc: 0.9914 - val_loss: 0.0815 - val_acc: 0.9785\n",
            "Epoch 220/250\n",
            "48000/48000 [==============================] - 2s 41us/step - loss: 0.0290 - acc: 0.9920 - val_loss: 0.0814 - val_acc: 0.9780\n",
            "Epoch 221/250\n",
            "48000/48000 [==============================] - 2s 41us/step - loss: 0.0284 - acc: 0.9923 - val_loss: 0.0820 - val_acc: 0.9787\n",
            "Epoch 222/250\n",
            " 7168/48000 [===>..........................] - ETA: 1s - loss: 0.0303 - acc: 0.9916"
          ],
          "name": "stdout"
        },
        {
          "output_type": "stream",
          "text": [
            "48000/48000 [==============================] - 2s 41us/step - loss: 0.0300 - acc: 0.9918 - val_loss: 0.0809 - val_acc: 0.9788\n",
            "Epoch 223/250\n",
            "48000/48000 [==============================] - 2s 41us/step - loss: 0.0285 - acc: 0.9921 - val_loss: 0.0810 - val_acc: 0.9786\n",
            "Epoch 224/250\n",
            "48000/48000 [==============================] - 2s 41us/step - loss: 0.0290 - acc: 0.9920 - val_loss: 0.0817 - val_acc: 0.9783\n",
            "Epoch 225/250\n",
            "48000/48000 [==============================] - 2s 40us/step - loss: 0.0280 - acc: 0.9927 - val_loss: 0.0817 - val_acc: 0.9778\n",
            "Epoch 226/250\n",
            "48000/48000 [==============================] - 2s 41us/step - loss: 0.0266 - acc: 0.9930 - val_loss: 0.0812 - val_acc: 0.9785\n",
            "Epoch 227/250\n",
            "48000/48000 [==============================] - 2s 41us/step - loss: 0.0283 - acc: 0.9923 - val_loss: 0.0812 - val_acc: 0.9787\n",
            "Epoch 228/250\n",
            " 7040/48000 [===>..........................] - ETA: 1s - loss: 0.0291 - acc: 0.9919"
          ],
          "name": "stdout"
        },
        {
          "output_type": "stream",
          "text": [
            "48000/48000 [==============================] - 2s 41us/step - loss: 0.0285 - acc: 0.9919 - val_loss: 0.0813 - val_acc: 0.9786\n",
            "Epoch 229/250\n",
            "48000/48000 [==============================] - 2s 41us/step - loss: 0.0276 - acc: 0.9920 - val_loss: 0.0814 - val_acc: 0.9783\n",
            "Epoch 230/250\n",
            "48000/48000 [==============================] - 2s 41us/step - loss: 0.0273 - acc: 0.9924 - val_loss: 0.0813 - val_acc: 0.9784\n",
            "Epoch 231/250\n",
            "48000/48000 [==============================] - 2s 41us/step - loss: 0.0268 - acc: 0.9928 - val_loss: 0.0817 - val_acc: 0.9786\n",
            "Epoch 232/250\n",
            "48000/48000 [==============================] - 2s 41us/step - loss: 0.0275 - acc: 0.9927 - val_loss: 0.0818 - val_acc: 0.9785\n",
            "Epoch 233/250\n",
            "48000/48000 [==============================] - 2s 41us/step - loss: 0.0269 - acc: 0.9925 - val_loss: 0.0818 - val_acc: 0.9783\n",
            "Epoch 234/250\n",
            " 5760/48000 [==>...........................] - ETA: 1s - loss: 0.0209 - acc: 0.9948"
          ],
          "name": "stdout"
        },
        {
          "output_type": "stream",
          "text": [
            "48000/48000 [==============================] - 2s 41us/step - loss: 0.0269 - acc: 0.9924 - val_loss: 0.0815 - val_acc: 0.9782\n",
            "Epoch 235/250\n",
            "48000/48000 [==============================] - 2s 41us/step - loss: 0.0264 - acc: 0.9931 - val_loss: 0.0813 - val_acc: 0.9787\n",
            "Epoch 236/250\n",
            "48000/48000 [==============================] - 2s 41us/step - loss: 0.0268 - acc: 0.9923 - val_loss: 0.0817 - val_acc: 0.9785\n",
            "Epoch 237/250\n",
            "48000/48000 [==============================] - 2s 41us/step - loss: 0.0259 - acc: 0.9933 - val_loss: 0.0818 - val_acc: 0.9780\n",
            "Epoch 238/250\n",
            "48000/48000 [==============================] - 2s 40us/step - loss: 0.0266 - acc: 0.9926 - val_loss: 0.0815 - val_acc: 0.9786\n",
            "Epoch 239/250\n",
            "48000/48000 [==============================] - 2s 40us/step - loss: 0.0259 - acc: 0.9931 - val_loss: 0.0817 - val_acc: 0.9784\n",
            "Epoch 240/250\n",
            " 8704/48000 [====>.........................] - ETA: 1s - loss: 0.0238 - acc: 0.9937"
          ],
          "name": "stdout"
        },
        {
          "output_type": "stream",
          "text": [
            "48000/48000 [==============================] - 2s 41us/step - loss: 0.0250 - acc: 0.9938 - val_loss: 0.0824 - val_acc: 0.9782\n",
            "Epoch 241/250\n",
            "48000/48000 [==============================] - 2s 41us/step - loss: 0.0256 - acc: 0.9929 - val_loss: 0.0820 - val_acc: 0.9784\n",
            "Epoch 242/250\n",
            "48000/48000 [==============================] - 2s 42us/step - loss: 0.0248 - acc: 0.9931 - val_loss: 0.0815 - val_acc: 0.9784\n",
            "Epoch 243/250\n",
            "48000/48000 [==============================] - 2s 41us/step - loss: 0.0250 - acc: 0.9935 - val_loss: 0.0816 - val_acc: 0.9785\n",
            "Epoch 244/250\n",
            "48000/48000 [==============================] - 2s 41us/step - loss: 0.0248 - acc: 0.9937 - val_loss: 0.0820 - val_acc: 0.9783\n",
            "Epoch 245/250\n",
            "48000/48000 [==============================] - 2s 41us/step - loss: 0.0256 - acc: 0.9932 - val_loss: 0.0819 - val_acc: 0.9781\n",
            "Epoch 246/250\n",
            " 6656/48000 [===>..........................] - ETA: 1s - loss: 0.0246 - acc: 0.9929"
          ],
          "name": "stdout"
        },
        {
          "output_type": "stream",
          "text": [
            "48000/48000 [==============================] - 2s 41us/step - loss: 0.0248 - acc: 0.9933 - val_loss: 0.0819 - val_acc: 0.9783\n",
            "Epoch 247/250\n",
            "48000/48000 [==============================] - 2s 41us/step - loss: 0.0236 - acc: 0.9938 - val_loss: 0.0818 - val_acc: 0.9782\n",
            "Epoch 248/250\n",
            "48000/48000 [==============================] - 2s 41us/step - loss: 0.0243 - acc: 0.9935 - val_loss: 0.0821 - val_acc: 0.9781\n",
            "Epoch 249/250\n",
            "48000/48000 [==============================] - 2s 41us/step - loss: 0.0244 - acc: 0.9937 - val_loss: 0.0818 - val_acc: 0.9784\n",
            "Epoch 250/250\n",
            "48000/48000 [==============================] - 2s 41us/step - loss: 0.0238 - acc: 0.9936 - val_loss: 0.0826 - val_acc: 0.9785\n"
          ],
          "name": "stdout"
        }
      ]
    },
    {
      "metadata": {
        "id": "7gjblaY73zY5",
        "colab_type": "code",
        "colab": {
          "autoexec": {
            "startup": false,
            "wait_interval": 0
          },
          "output_extras": [
            {
              "item_id": 2
            }
          ],
          "base_uri": "https://localhost:8080/",
          "height": 34
        },
        "outputId": "37018094-5bfd-4b59-ce28-a6174c55138d",
        "executionInfo": {
          "status": "ok",
          "timestamp": 1519293446101,
          "user_tz": -180,
          "elapsed": 1321,
          "user": {
            "displayName": "akın yalçınkaya",
            "photoUrl": "//lh4.googleusercontent.com/-Ee_c7axErkI/AAAAAAAAAAI/AAAAAAAAABQ/JwfGPdH--7M/s50-c-k-no/photo.jpg",
            "userId": "100367937902555164218"
          }
        }
      },
      "cell_type": "code",
      "source": [
        "score=model.evaluate(X_test,Y_test,verbose=VERBOSE)"
      ],
      "execution_count": 40,
      "outputs": [
        {
          "output_type": "stream",
          "text": [
            "10000/10000 [==============================] - 0s 41us/step\n"
          ],
          "name": "stdout"
        }
      ]
    },
    {
      "metadata": {
        "id": "NE2YnscK3-wQ",
        "colab_type": "code",
        "colab": {
          "autoexec": {
            "startup": false,
            "wait_interval": 0
          },
          "output_extras": [
            {
              "item_id": 1
            }
          ],
          "base_uri": "https://localhost:8080/",
          "height": 68
        },
        "outputId": "acc5de01-ee66-495a-e72c-f00672457ef4",
        "executionInfo": {
          "status": "ok",
          "timestamp": 1519293449597,
          "user_tz": -180,
          "elapsed": 621,
          "user": {
            "displayName": "akın yalçınkaya",
            "photoUrl": "//lh4.googleusercontent.com/-Ee_c7axErkI/AAAAAAAAAAI/AAAAAAAAABQ/JwfGPdH--7M/s50-c-k-no/photo.jpg",
            "userId": "100367937902555164218"
          }
        }
      },
      "cell_type": "code",
      "source": [
        "print(\"\\n Test Score:\",score[0])\n",
        "print(\"Test Accuracy:\",score[1])"
      ],
      "execution_count": 41,
      "outputs": [
        {
          "output_type": "stream",
          "text": [
            "\n",
            " Test Score: 0.06690438576461748\n",
            "Test Accuracy: 0.9787\n"
          ],
          "name": "stdout"
        }
      ]
    },
    {
      "metadata": {
        "id": "q9ax-N8D8rio",
        "colab_type": "code",
        "colab": {
          "autoexec": {
            "startup": false,
            "wait_interval": 0
          }
        }
      },
      "cell_type": "code",
      "source": [
        "import matplotlib.pyplot as plt"
      ],
      "execution_count": 0,
      "outputs": []
    },
    {
      "metadata": {
        "id": "QF4_evdf5DVe",
        "colab_type": "code",
        "colab": {
          "autoexec": {
            "startup": false,
            "wait_interval": 0
          },
          "output_extras": [
            {
              "item_id": 1
            },
            {
              "item_id": 2
            }
          ],
          "base_uri": "https://localhost:8080/",
          "height": 393
        },
        "outputId": "ece746b1-548d-4659-b5df-f1b1370ef748",
        "executionInfo": {
          "status": "ok",
          "timestamp": 1519293505067,
          "user_tz": -180,
          "elapsed": 717,
          "user": {
            "displayName": "akın yalçınkaya",
            "photoUrl": "//lh4.googleusercontent.com/-Ee_c7axErkI/AAAAAAAAAAI/AAAAAAAAABQ/JwfGPdH--7M/s50-c-k-no/photo.jpg",
            "userId": "100367937902555164218"
          }
        }
      },
      "cell_type": "code",
      "source": [
        "#listeliyor bütün verileri \n",
        "print(history.history.keys())\n",
        "\n",
        "#accuracy'ın özet history\n",
        "plt.plot(history.history['acc'])\n",
        "plt.plot(history.history['val_acc'])\n",
        "plt.title('model accuracy')\n",
        "plt.ylabel('accuracy')\n",
        "plt.xlabel('epoch')\n",
        "plt.legend(['train','test'],loc='upper left')\n",
        "plt.show()"
      ],
      "execution_count": 44,
      "outputs": [
        {
          "output_type": "stream",
          "text": [
            "['acc', 'loss', 'val_acc', 'val_loss']\n"
          ],
          "name": "stdout"
        },
        {
          "output_type": "display_data",
          "data": {
            "image/png": "[encoded data removed]",
            "text/plain": [
              "<matplotlib.figure.Figure at 0x7f12206f33d0>"
            ]
          },
          "metadata": {
            "tags": []
          }
        }
      ]
    },
    {
      "metadata": {
        "id": "V7I6y4jj57n1",
        "colab_type": "code",
        "colab": {
          "autoexec": {
            "startup": false,
            "wait_interval": 0
          },
          "output_extras": [
            {
              "item_id": 1
            }
          ],
          "base_uri": "https://localhost:8080/",
          "height": 376
        },
        "outputId": "5cfadc11-cf2e-4fcc-faf3-5a5d0ee4757e",
        "executionInfo": {
          "status": "ok",
          "timestamp": 1519293511715,
          "user_tz": -180,
          "elapsed": 894,
          "user": {
            "displayName": "akın yalçınkaya",
            "photoUrl": "//lh4.googleusercontent.com/-Ee_c7axErkI/AAAAAAAAAAI/AAAAAAAAABQ/JwfGPdH--7M/s50-c-k-no/photo.jpg",
            "userId": "100367937902555164218"
          }
        }
      },
      "cell_type": "code",
      "source": [
        "plt.plot(history.history['loss'])\n",
        "plt.plot(history.history['val_loss'])\n",
        "plt.title('model loss')\n",
        "plt.ylabel('loss')\n",
        "plt.xlabel('epoch')\n",
        "plt.legend(['train','test'],loc='upper left')\n",
        "plt.show()"
      ],
      "execution_count": 45,
      "outputs": [
        {
          "output_type": "display_data",
          "data": {
            "image/png": "[encoded data removed]",
            "text/plain": [
              "<matplotlib.figure.Figure at 0x7f12229df550>"
            ]
          },
          "metadata": {
            "tags": []
          }
        }
      ]
    }
  ]
}